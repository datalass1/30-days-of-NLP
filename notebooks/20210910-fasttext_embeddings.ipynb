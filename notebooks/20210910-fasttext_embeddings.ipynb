{
 "cells": [
  {
   "cell_type": "markdown",
   "id": "6d2fef88",
   "metadata": {},
   "source": [
    "### fastText\n",
    "\n",
    "A method to deal with out of vocabulary (OOV). And it is extremely fast at learning on large corpora. \n",
    "\n",
    "FastText is based on the idea of enriching word embeddings with subword-level information. Thus, the embedding representation for each word is represented as a sum of the representations of individual **character** n-grams.\n",
    "\n",
    "FastText is a text classification model. \n",
    "\n",
    "We’ll work with the DBpedia dataset containined 14 classes of 560,000 training examples and 70,000 texting examples. "
   ]
  },
  {
   "cell_type": "code",
   "execution_count": 8,
   "id": "a61455e5",
   "metadata": {},
   "outputs": [],
   "source": [
    "import os\n",
    "import pandas as pd\n",
    "import wget\n",
    "import tarfile\n",
    "from fasttext import train_supervised "
   ]
  },
  {
   "cell_type": "markdown",
   "id": "52017247",
   "metadata": {},
   "source": [
    "### Download & load the data"
   ]
  },
  {
   "cell_type": "code",
   "execution_count": 9,
   "id": "6a2ba2e2",
   "metadata": {},
   "outputs": [
    {
     "name": "stdout",
     "output_type": "stream",
     "text": [
      "Train:(560000, 3) Test:(70000, 3)\n"
     ]
    }
   ],
   "source": [
    "data_path = 'DATAPATH'\n",
    "train_file = data_path + '/dbpedia_csv/train.csv'\n",
    "test_file = data_path + '/dbpedia_csv/test.csv'\n",
    "if not os.path.exists(train_file):\n",
    "    !wget -P DATAPATH https://github.com/le-scientifique/torchDatasets/raw/master/dbpedia_csv.tar.gz\n",
    "    !tar -xvf DATAPATH/dbpedia_csv.tar.gz -C DATAPATH\n",
    "    \n",
    "df = pd.read_csv(train_file, header=None, names=['class','name','description'])\n",
    "df_test = pd.read_csv(test_file, header=None, names=['class','name','description'])\n",
    "print(\"Train:{} Test:{}\".format(df.shape,df_test.shape))"
   ]
  },
  {
   "cell_type": "code",
   "execution_count": 25,
   "id": "e6f41ea9",
   "metadata": {},
   "outputs": [
    {
     "data": {
      "text/html": [
       "<div>\n",
       "<style scoped>\n",
       "    .dataframe tbody tr th:only-of-type {\n",
       "        vertical-align: middle;\n",
       "    }\n",
       "\n",
       "    .dataframe tbody tr th {\n",
       "        vertical-align: top;\n",
       "    }\n",
       "\n",
       "    .dataframe thead th {\n",
       "        text-align: right;\n",
       "    }\n",
       "</style>\n",
       "<table border=\"1\" class=\"dataframe\">\n",
       "  <thead>\n",
       "    <tr style=\"text-align: right;\">\n",
       "      <th></th>\n",
       "      <th>class</th>\n",
       "      <th>name</th>\n",
       "      <th>description</th>\n",
       "      <th>class_name</th>\n",
       "    </tr>\n",
       "  </thead>\n",
       "  <tbody>\n",
       "    <tr>\n",
       "      <th>34566</th>\n",
       "      <td>1</td>\n",
       "      <td>Sterling Piano Company</td>\n",
       "      <td>The Sterling Piano Company was a piano manufa...</td>\n",
       "      <td>Company</td>\n",
       "    </tr>\n",
       "    <tr>\n",
       "      <th>223092</th>\n",
       "      <td>6</td>\n",
       "      <td>NYC S-Motor</td>\n",
       "      <td>S-Motor was the class designation given by th...</td>\n",
       "      <td>MeanOfTransportation</td>\n",
       "    </tr>\n",
       "    <tr>\n",
       "      <th>110270</th>\n",
       "      <td>3</td>\n",
       "      <td>Axel Zwingenberger</td>\n",
       "      <td>Axel Zwingenberger (born May 7 1955 Hamburg G...</td>\n",
       "      <td>Artist</td>\n",
       "    </tr>\n",
       "    <tr>\n",
       "      <th>365013</th>\n",
       "      <td>10</td>\n",
       "      <td>Sceptrophasma hispidulum</td>\n",
       "      <td>Sceptrophasma hispidulum commonly known as th...</td>\n",
       "      <td>Animal</td>\n",
       "    </tr>\n",
       "    <tr>\n",
       "      <th>311625</th>\n",
       "      <td>8</td>\n",
       "      <td>Nucet River (Chiojdeanca)</td>\n",
       "      <td>The Nucet River is a tributary of the Chiojde...</td>\n",
       "      <td>NaturalPlace</td>\n",
       "    </tr>\n",
       "  </tbody>\n",
       "</table>\n",
       "</div>"
      ],
      "text/plain": [
       "        class                       name  \\\n",
       "34566       1     Sterling Piano Company   \n",
       "223092      6                NYC S-Motor   \n",
       "110270      3         Axel Zwingenberger   \n",
       "365013     10   Sceptrophasma hispidulum   \n",
       "311625      8  Nucet River (Chiojdeanca)   \n",
       "\n",
       "                                              description  \\\n",
       "34566    The Sterling Piano Company was a piano manufa...   \n",
       "223092   S-Motor was the class designation given by th...   \n",
       "110270   Axel Zwingenberger (born May 7 1955 Hamburg G...   \n",
       "365013   Sceptrophasma hispidulum commonly known as th...   \n",
       "311625   The Nucet River is a tributary of the Chiojde...   \n",
       "\n",
       "                  class_name  \n",
       "34566                Company  \n",
       "223092  MeanOfTransportation  \n",
       "110270                Artist  \n",
       "365013                Animal  \n",
       "311625          NaturalPlace  "
      ]
     },
     "execution_count": 25,
     "metadata": {},
     "output_type": "execute_result"
    }
   ],
   "source": [
    "# Mapping from class number to class name\n",
    "class_dict={\n",
    "            1:'Company',\n",
    "            2:'EducationalInstitution',\n",
    "            3:'Artist',\n",
    "            4:'Athlete',\n",
    "            5:'OfficeHolder',\n",
    "            6:'MeanOfTransportation',\n",
    "            7:'Building',\n",
    "            8:'NaturalPlace',\n",
    "            9:'Village',\n",
    "            10:'Animal',\n",
    "            11:'Plant',\n",
    "            12:'Album',\n",
    "            13:'Film',\n",
    "            14:'WrittenWork'}\n",
    "# Mapping the classes\n",
    "df['class_name'] = df['class'].map(class_dict)\n",
    "df.sample(5, random_state=42)"
   ]
  },
  {
   "cell_type": "markdown",
   "id": "139c60a8",
   "metadata": {},
   "source": [
    "### Text Cleaning"
   ]
  },
  {
   "cell_type": "code",
   "execution_count": 30,
   "id": "cf6933dc",
   "metadata": {},
   "outputs": [],
   "source": [
    "def clean_it(text,normalize=True):\n",
    "    # Replacing possible issues with data. We can add or reduce the replacemtent in this chain\n",
    "    s = str(text).replace(',',' ').replace('\"','').replace('\\'',' \\' ').replace('.',' . ').replace('(',' ( ').\\\n",
    "            replace(')',' ) ').replace('!',' ! ').replace('?',' ? ').replace(':',' ').replace(';',' ').lower()\n",
    "    # normalizing / encoding the text\n",
    "    if normalize:\n",
    "        s = s.normalize('NFKD').str.encode('ascii','ignore').str.decode('utf-8')\n",
    "    return s\n",
    "\n",
    "# Now lets define a small function where we can use above cleaning on datasets\n",
    "def clean_df(data, cleanit= False, shuffleit=False, encodeit=False, label_prefix='__class__'):\n",
    "    # Defining the new data\n",
    "    df = data[['name','description']].copy(deep=True)\n",
    "    df['class'] = label_prefix + data['class'].astype(str) + ' '\n",
    "    # cleaning it\n",
    "    if cleanit:\n",
    "        df['name'] = df['name'].apply(lambda x: clean_it(x,encodeit))\n",
    "        df['description'] = df['description'].apply(lambda x: clean_it(x,encodeit))\n",
    "    # shuffling it\n",
    "    if shuffleit:\n",
    "        df.sample(frac=1).reset_index(drop=True)\n",
    "    return df\n",
    "\n",
    "# Transform the datasets using the above clean functions\n",
    "df_train_cleaned = clean_df(df, True, True)\n",
    "df_test_cleaned = clean_df(df_test, True, True)\n",
    "\n",
    "# Write files to disk as fastText classifier API reads files from disk.\n",
    "train_file = data_path + '/dbpedia_train.csv'\n",
    "df_train_cleaned.to_csv(train_file, header=None, index=False, columns=['class','name','description'] )\n",
    "test_file = data_path + '/dbpedia_test.csv'\n",
    "df_test_cleaned.to_csv(test_file, header=None, index=False, columns=['class','name','description'] )"
   ]
  },
  {
   "cell_type": "markdown",
   "id": "c7f5a4f3",
   "metadata": {},
   "source": [
    "All the labels start by the `__label__` prefix (in this example we use `__class__`), which is how fastText recognize what is a label or what is a word."
   ]
  },
  {
   "cell_type": "code",
   "execution_count": 31,
   "id": "e0554a43",
   "metadata": {},
   "outputs": [
    {
     "data": {
      "text/html": [
       "<div>\n",
       "<style scoped>\n",
       "    .dataframe tbody tr th:only-of-type {\n",
       "        vertical-align: middle;\n",
       "    }\n",
       "\n",
       "    .dataframe tbody tr th {\n",
       "        vertical-align: top;\n",
       "    }\n",
       "\n",
       "    .dataframe thead th {\n",
       "        text-align: right;\n",
       "    }\n",
       "</style>\n",
       "<table border=\"1\" class=\"dataframe\">\n",
       "  <thead>\n",
       "    <tr style=\"text-align: right;\">\n",
       "      <th></th>\n",
       "      <th>name</th>\n",
       "      <th>description</th>\n",
       "      <th>class</th>\n",
       "    </tr>\n",
       "  </thead>\n",
       "  <tbody>\n",
       "    <tr>\n",
       "      <th>34566</th>\n",
       "      <td>sterling piano company</td>\n",
       "      <td>the sterling piano company was a piano manufa...</td>\n",
       "      <td>__class__1</td>\n",
       "    </tr>\n",
       "    <tr>\n",
       "      <th>223092</th>\n",
       "      <td>nyc s-motor</td>\n",
       "      <td>s-motor was the class designation given by th...</td>\n",
       "      <td>__class__6</td>\n",
       "    </tr>\n",
       "    <tr>\n",
       "      <th>110270</th>\n",
       "      <td>axel zwingenberger</td>\n",
       "      <td>axel zwingenberger  ( born may 7 1955 hamburg...</td>\n",
       "      <td>__class__3</td>\n",
       "    </tr>\n",
       "    <tr>\n",
       "      <th>365013</th>\n",
       "      <td>sceptrophasma hispidulum</td>\n",
       "      <td>sceptrophasma hispidulum commonly known as th...</td>\n",
       "      <td>__class__10</td>\n",
       "    </tr>\n",
       "    <tr>\n",
       "      <th>311625</th>\n",
       "      <td>nucet river  ( chiojdeanca )</td>\n",
       "      <td>the nucet river is a tributary of the chiojde...</td>\n",
       "      <td>__class__8</td>\n",
       "    </tr>\n",
       "  </tbody>\n",
       "</table>\n",
       "</div>"
      ],
      "text/plain": [
       "                                 name  \\\n",
       "34566          sterling piano company   \n",
       "223092                    nyc s-motor   \n",
       "110270             axel zwingenberger   \n",
       "365013       sceptrophasma hispidulum   \n",
       "311625  nucet river  ( chiojdeanca )    \n",
       "\n",
       "                                              description         class  \n",
       "34566    the sterling piano company was a piano manufa...   __class__1   \n",
       "223092   s-motor was the class designation given by th...   __class__6   \n",
       "110270   axel zwingenberger  ( born may 7 1955 hamburg...   __class__3   \n",
       "365013   sceptrophasma hispidulum commonly known as th...  __class__10   \n",
       "311625   the nucet river is a tributary of the chiojde...   __class__8   "
      ]
     },
     "execution_count": 31,
     "metadata": {},
     "output_type": "execute_result"
    }
   ],
   "source": [
    "df_train_cleaned.sample(5, random_state=42)"
   ]
  },
  {
   "cell_type": "markdown",
   "id": "5288169d",
   "metadata": {},
   "source": [
    "### Model training\n",
    "Notice that we gave the classifier raw text and not the feature vector."
   ]
  },
  {
   "cell_type": "code",
   "execution_count": 32,
   "id": "518351e0",
   "metadata": {},
   "outputs": [
    {
     "name": "stderr",
     "output_type": "stream",
     "text": [
      "Read 31M words\n",
      "Number of words:  1116962\n",
      "Number of labels: 14\n",
      "Progress: 100.0% words/sec/thread:  598277 lr:  0.000078 avg.loss:  0.003162 ETA:   0h 0m 0s33m59s avg.loss:  0.056193 ETA:   0h34m17s 580394 lr:  0.985471 avg.loss:  0.056543 ETA:   0h33m45s 0.985384 avg.loss:  0.056265 ETA:   0h33m46s 0.984468 avg.loss:  0.053297 ETA:   0h33m46s lr:  0.984209 avg.loss:  0.052462 ETA:   0h33m44s avg.loss:  0.051262 ETA:   0h33m45s  1.7% words/sec/thread:  580071 lr:  0.983177 avg.loss:  0.049215 ETA:   0h33m41s  0h33m38s 0.982795 avg.loss:  0.047964 ETA:   0h33m36s  0h33m33s 0.980356 avg.loss:  0.043070 ETA:   0h33m32s% words/sec/thread:  580492 lr:  0.979637 avg.loss:  0.041645 ETA:   0h33m32s  2.1% words/sec/thread:  580861 lr:  0.979280 avg.loss:  0.041615 ETA:   0h33m30s% words/sec/thread:  581498 lr:  0.978668 avg.loss:  0.040631 ETA:   0h33m27s 0.978468 avg.loss:  0.040468 ETA:   0h33m26s avg.loss:  0.040320 ETA:   0h33m26s% words/sec/thread:  580965 lr:  0.978146 avg.loss:  0.040000 ETA:   0h33m28s ETA:   0h33m26s26s 0.977595 avg.loss:  0.039108 ETA:   0h33m26s 0.977347 avg.loss:  0.039285 ETA:   0h33m25s avg.loss:  0.039216 ETA:   0h33m24s 0.039168 ETA:   0h33m23s% words/sec/thread:  581572 lr:  0.976896 avg.loss:  0.038882 ETA:   0h33m23s 0.976384 avg.loss:  0.038318 ETA:   0h33m20s 0.038187 ETA:   0h33m20s 0.037743 ETA:   0h33m19s 582332 lr:  0.975587 avg.loss:  0.037241 ETA:   0h33m18s lr:  0.975228 avg.loss:  0.037437 ETA:   0h33m16s ETA:   0h33m15s avg.loss:  0.036998 ETA:   0h33m15s 0.974545 avg.loss:  0.036888 ETA:   0h33m15s avg.loss:  0.036196 ETA:   0h33m11s 0.973157 avg.loss:  0.036705 ETA:   0h33m 8s words/sec/thread:  583853 lr:  0.972664 avg.loss:  0.036753 ETA:   0h33m 7s 0.971757 avg.loss:  0.036310 ETA:   0h33m 3s 584280 lr:  0.971510 avg.loss:  0.036048 ETA:   0h33m 3s  2.9% words/sec/thread:  584328 lr:  0.970620 avg.loss:  0.035571 ETA:   0h33m 1s avg.loss:  0.016543 ETA:   0h30m26s 0.911550 avg.loss:  0.016539 ETA:   0h30m25s% words/sec/thread:  596045 lr:  0.872912 avg.loss:  0.012586 ETA:   0h29m 6s 0.872565 avg.loss:  0.012546 ETA:   0h29m 6s 0.871964 avg.loss:  0.012519 ETA:   0h29m 5s 12.8% words/sec/thread:  596013 lr:  0.871862 avg.loss:  0.012509 ETA:   0h29m 4s 0.870517 avg.loss:  0.012419 ETA:   0h29m 2s 0.869773 avg.loss:  0.012358 ETA:   0h29m 0s 0.012293 ETA:   0h28m59s ETA:   0h28m58s 13.2% words/sec/thread:  595737 lr:  0.868351 avg.loss:  0.012258 ETA:   0h28m58s 0.012215 ETA:   0h28m57s avg.loss:  0.012196 ETA:   0h28m57s avg.loss:  0.012176 ETA:   0h28m56s28m27s 590809 lr:  0.722201 avg.loss:  0.007316 ETA:   0h24m18sh24m16s 590782 lr:  0.720768 avg.loss:  0.007283 ETA:   0h24m15s 590804 lr:  0.720657 avg.loss:  0.007285 ETA:   0h24m14s 0.007336 ETA:   0h24m14s 0.007323 ETA:   0h24m12s 0.718687 avg.loss:  0.007312 ETA:   0h24m11s 0.716616 avg.loss:  0.007323 ETA:   0h24m 6s lr:  0.716039 avg.loss:  0.007308 ETA:   0h24m 5s 0.715439 avg.loss:  0.007288 ETA:   0h24m 4s 0.715084 avg.loss:  0.007277 ETA:   0h24m 3s avg.loss:  0.007280 ETA:   0h24m 3s 590767 lr:  0.714737 avg.loss:  0.007272 ETA:   0h24m 3s  0h24m 1s 0.713369 avg.loss:  0.007232 ETA:   0h24m 0s 590593 lr:  0.710230 avg.loss:  0.007162 ETA:   0h23m54s 0.701556 avg.loss:  0.007013 ETA:   0h23m36s% words/sec/thread:  590562 lr:  0.697610 avg.loss:  0.006944 ETA:   0h23m28s 0.668859 avg.loss:  0.006481 ETA:   0h22m31s lr:  0.668520 avg.loss:  0.006476 ETA:   0h22m31s 0.006470 ETA:   0h22m30s  0h21m23s 0.634490 avg.loss:  0.006045 ETA:   0h21m21s 40.5% words/sec/thread:  591661 lr:  0.594920 avg.loss:  0.005551 ETA:   0h19m59s 0.554559 avg.loss:  0.005125 ETA:   0h18m38s 591453 lr:  0.554469 avg.loss:  0.005124 ETA:   0h18m38s 0.005123 ETA:   0h18m37s words/sec/thread:  591872 lr:  0.501148 avg.loss:  0.004650 ETA:   0h16m49s  0h13m28s 0.400315 avg.loss:  0.003989 ETA:   0h13m26s 0.353890 avg.loss:  0.003753 ETA:   0h11m51s 0.353781 avg.loss:  0.003752 ETA:   0h11m51s 0.296143 avg.loss:  0.003506 ETA:   0h 9m55s 593212 lr:  0.292957 avg.loss:  0.003496 ETA:   0h 9m49s avg.loss:  0.002972 ETA:   0h 3m28s 0.103985 avg.loss:  0.002971 ETA:   0h 3m28s words/sec/thread:  596231 lr:  0.103873 avg.loss:  0.002971 ETA:   0h 3m27s39s 0.018623 avg.loss:  0.002919 ETA:   0h 0m37s 98.2% words/sec/thread:  598040 lr:  0.018357 avg.loss:  0.002919 ETA:   0h 0m36s 98.2% words/sec/thread:  598059 lr:  0.017972 avg.loss:  0.002919 ETA:   0h 0m35s lr:  0.017619 avg.loss:  0.002918 ETA:   0h 0m35s 98.2% words/sec/thread:  598053 lr:  0.017528 avg.loss:  0.002918 ETA:   0h 0m34s 98.3% words/sec/thread:  598062 lr:  0.017109 avg.loss:  0.002918 ETA:   0h 0m34s 98.3% words/sec/thread:  598068 lr:  0.016998 avg.loss:  0.002920 ETA:   0h 0m33s avg.loss:  0.002924 ETA:   0h 0m32s 598117 lr:  0.015453 avg.loss:  0.002924 ETA:   0h 0m30s lr:  0.014720 avg.loss:  0.002933 ETA:   0h 0m29s 0.013691 avg.loss:  0.002935 ETA:   0h 0m27s"
     ]
    },
    {
     "name": "stdout",
     "output_type": "stream",
     "text": [
      "CPU times: user 1h 6min 16s, sys: 55.9 s, total: 1h 7min 12s\n",
      "Wall time: 33min 37s\n"
     ]
    },
    {
     "name": "stderr",
     "output_type": "stream",
     "text": [
      "\r",
      "Progress: 100.0% words/sec/thread:  598276 lr:  0.000029 avg.loss:  0.003170 ETA:   0h 0m 0s\r",
      "Progress: 100.0% words/sec/thread:  598263 lr: -0.000000 avg.loss:  0.003172 ETA:   0h 0m 0s\r",
      "Progress: 100.0% words/sec/thread:  598263 lr:  0.000000 avg.loss:  0.003172 ETA:   0h 0m 0s\n"
     ]
    }
   ],
   "source": [
    "%%time\n",
    "model = train_supervised(input=train_file, label=\"__class__\", \n",
    "                         lr=1.0, epoch=75, loss='ova', wordNgrams=2, \n",
    "                         dim=200, thread=2, verbose=100)"
   ]
  },
  {
   "cell_type": "markdown",
   "id": "6eab2ece",
   "metadata": {},
   "source": [
    "Evaluate fast text model"
   ]
  },
  {
   "cell_type": "code",
   "execution_count": 33,
   "id": "25898c42",
   "metadata": {},
   "outputs": [
    {
     "name": "stdout",
     "output_type": "stream",
     "text": [
      "Test Samples: 70000     Precision@1 : 88.3500     Recall@1 : 88.3500\n",
      "Test Samples: 70000     Precision@2 : 47.0121     Recall@2 : 94.0243\n",
      "Test Samples: 70000     Precision@3 : 31.8224     Recall@3 : 95.4671\n",
      "Test Samples: 70000     Precision@4 : 24.1404     Recall@4 : 96.5614\n",
      "Test Samples: 70000     Precision@5 : 19.4271     Recall@5 : 97.1357\n"
     ]
    }
   ],
   "source": [
    "for k in range(1,6):\n",
    "    results = model.test(test_file,k=k)\n",
    "    print(f\"Test Samples: {results[0]} \\\n",
    "    Precision@{k} : {results[1]*100:2.4f} \\\n",
    "    Recall@{k} : {results[2]*100:2.4f}\")"
   ]
  },
  {
   "cell_type": "markdown",
   "id": "c740f761",
   "metadata": {},
   "source": [
    "The only downside is that the trained model carries the entire character n-gram embeddings dictionary with it. This results in a bulky model and can result in engineering issues. \n",
    "\n",
    "However, fastText implementation also comes with options to reduce the memory footprint of its classification models with minimal reduction in classification performance. It does this by doing vocabulary pruning and using compression algorithms."
   ]
  },
  {
   "cell_type": "markdown",
   "id": "7b81043d",
   "metadata": {},
   "source": [
    "### Let's try (for fun) a logistic regression model with BoW embeddings on the same dataset to compare"
   ]
  },
  {
   "cell_type": "code",
   "execution_count": null,
   "id": "3e8f3404",
   "metadata": {},
   "outputs": [],
   "source": []
  }
 ],
 "metadata": {
  "kernelspec": {
   "display_name": "Python 3 (ipykernel)",
   "language": "python",
   "name": "python3"
  },
  "language_info": {
   "codemirror_mode": {
    "name": "ipython",
    "version": 3
   },
   "file_extension": ".py",
   "mimetype": "text/x-python",
   "name": "python",
   "nbconvert_exporter": "python",
   "pygments_lexer": "ipython3",
   "version": "3.7.10"
  }
 },
 "nbformat": 4,
 "nbformat_minor": 5
}
