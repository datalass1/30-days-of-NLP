{
 "cells": [
  {
   "cell_type": "code",
   "execution_count": 1,
   "id": "4be99f30",
   "metadata": {},
   "outputs": [],
   "source": [
    "import os\n",
    "import pandas as pd\n",
    "import numpy as np\n",
    "#visualisation\n",
    "import seaborn as sn\n",
    "import matplotlib as mpl \n",
    "import matplotlib.cm as cm \n",
    "import matplotlib.pyplot as plt\n",
    "# NLP\n",
    "import spacy\n",
    "from sklearn.feature_extraction.text import CountVectorizer, TfidfVectorizer\n",
    "# Machine Learning\n",
    "from sklearn.pipeline import Pipeline\n",
    "from sklearn.metrics import accuracy_score, confusion_matrix, classification_report\n",
    "from sklearn.model_selection import train_test_split\n",
    "from sklearn.linear_model import LogisticRegression\n",
    "from sklearn.svm import SVC\n",
    "from sklearn.naive_bayes import MultinomialNB"
   ]
  },
  {
   "cell_type": "markdown",
   "id": "1b485b7a",
   "metadata": {},
   "source": [
    "### Data Acquisition"
   ]
  },
  {
   "cell_type": "code",
   "execution_count": 2,
   "id": "ff05ea3f",
   "metadata": {},
   "outputs": [
    {
     "data": {
      "text/html": [
       "<div>\n",
       "<style scoped>\n",
       "    .dataframe tbody tr th:only-of-type {\n",
       "        vertical-align: middle;\n",
       "    }\n",
       "\n",
       "    .dataframe tbody tr th {\n",
       "        vertical-align: top;\n",
       "    }\n",
       "\n",
       "    .dataframe thead th {\n",
       "        text-align: right;\n",
       "    }\n",
       "</style>\n",
       "<table border=\"1\" class=\"dataframe\">\n",
       "  <thead>\n",
       "    <tr style=\"text-align: right;\">\n",
       "      <th></th>\n",
       "      <th>ArticleId</th>\n",
       "      <th>Text</th>\n",
       "      <th>Category</th>\n",
       "    </tr>\n",
       "  </thead>\n",
       "  <tbody>\n",
       "    <tr>\n",
       "      <th>286</th>\n",
       "      <td>1517</td>\n",
       "      <td>falconer rebuts  charade  claims concessions o...</td>\n",
       "      <td>politics</td>\n",
       "    </tr>\n",
       "    <tr>\n",
       "      <th>1370</th>\n",
       "      <td>2112</td>\n",
       "      <td>warning over windows word files writing a micr...</td>\n",
       "      <td>tech</td>\n",
       "    </tr>\n",
       "    <tr>\n",
       "      <th>1483</th>\n",
       "      <td>1904</td>\n",
       "      <td>beastie boys win sampling battle us rappers be...</td>\n",
       "      <td>entertainment</td>\n",
       "    </tr>\n",
       "    <tr>\n",
       "      <th>487</th>\n",
       "      <td>317</td>\n",
       "      <td>takeover offer for sunderland fc bob murray  c...</td>\n",
       "      <td>business</td>\n",
       "    </tr>\n",
       "    <tr>\n",
       "      <th>708</th>\n",
       "      <td>18</td>\n",
       "      <td>connors boost for british tennis former world ...</td>\n",
       "      <td>sport</td>\n",
       "    </tr>\n",
       "  </tbody>\n",
       "</table>\n",
       "</div>"
      ],
      "text/plain": [
       "      ArticleId                                               Text  \\\n",
       "286        1517  falconer rebuts  charade  claims concessions o...   \n",
       "1370       2112  warning over windows word files writing a micr...   \n",
       "1483       1904  beastie boys win sampling battle us rappers be...   \n",
       "487         317  takeover offer for sunderland fc bob murray  c...   \n",
       "708          18  connors boost for british tennis former world ...   \n",
       "\n",
       "           Category  \n",
       "286        politics  \n",
       "1370           tech  \n",
       "1483  entertainment  \n",
       "487        business  \n",
       "708           sport  "
      ]
     },
     "execution_count": 2,
     "metadata": {},
     "output_type": "execute_result"
    }
   ],
   "source": [
    "home_path = os.path.expanduser(\"~\")\n",
    "fp = f'{home_path}/git/30-days-of-NLP/notebooks/Data/learn-ai-bbc/BBC News Train.csv'\n",
    "df = pd.read_csv(fp)\n",
    "df.sample(5, random_state=59)"
   ]
  },
  {
   "cell_type": "markdown",
   "id": "30bed2bf",
   "metadata": {},
   "source": [
    "EDA"
   ]
  },
  {
   "cell_type": "code",
   "execution_count": 3,
   "id": "bfc13e11",
   "metadata": {},
   "outputs": [
    {
     "data": {
      "text/plain": [
       "sport            0.232215\n",
       "business         0.225503\n",
       "politics         0.183893\n",
       "entertainment    0.183221\n",
       "tech             0.175168\n",
       "Name: Category, dtype: float64"
      ]
     },
     "metadata": {},
     "output_type": "display_data"
    },
    {
     "data": {
      "image/png": "[encoded data removed]",
      "text/plain": [
       "<Figure size 432x288 with 1 Axes>"
      ]
     },
     "metadata": {
      "needs_background": "light"
     },
     "output_type": "display_data"
    }
   ],
   "source": [
    "(f'Number of documents in dataset: {len(df)}')\n",
    "display(df['Category'].value_counts()/df.shape[0]) \n",
    "# Class distribution in the dataset\n",
    "plt.figure(figsize=(6,4))\n",
    "(df.groupby('Category').size().sort_values()/df.shape[0]).plot.bar()\n",
    "plt.title('% of Categories')\n",
    "plt.ylabel('%')\n",
    "plt.xticks(rotation=45)\n",
    "plt.tight_layout()\n",
    "plt.savefig('../plots/training_categories.png')\n",
    "plt.show()"
   ]
  },
  {
   "cell_type": "code",
   "execution_count": 4,
   "id": "e2227d7e",
   "metadata": {},
   "outputs": [
    {
     "data": {
      "text/plain": [
       "(1490, 3)"
      ]
     },
     "execution_count": 4,
     "metadata": {},
     "output_type": "execute_result"
    }
   ],
   "source": [
    "df.shape"
   ]
  },
  {
   "cell_type": "markdown",
   "id": "80d6b2f9",
   "metadata": {},
   "source": [
    "How many words on average per category"
   ]
  },
  {
   "cell_type": "code",
   "execution_count": 5,
   "id": "8f4b3350",
   "metadata": {},
   "outputs": [
    {
     "data": {
      "text/plain": [
       "{'business': 192.07738095238096,\n",
       " 'tech': 258.4597701149425,\n",
       " 'politics': 235.21167883211677,\n",
       " 'sport': 189.77456647398844,\n",
       " 'entertainment': 190.6959706959707}"
      ]
     },
     "execution_count": 5,
     "metadata": {},
     "output_type": "execute_result"
    }
   ],
   "source": [
    "d = {}\n",
    "for col in df['Category'].unique():\n",
    "    df_col = df[df['Category'] == col]\n",
    "    word_count = (np.mean(df_col['Text']\\\n",
    "                          .apply(lambda x: len(set(x.split())))))\n",
    "    d[col] = word_count\n",
    "d"
   ]
  },
  {
   "cell_type": "markdown",
   "id": "3ac35f3f",
   "metadata": {},
   "source": [
    "### Pre-processing"
   ]
  },
  {
   "cell_type": "markdown",
   "id": "b37e39d8",
   "metadata": {},
   "source": [
    "Count non text characters"
   ]
  },
  {
   "cell_type": "code",
   "execution_count": 6,
   "id": "5e7c1a59",
   "metadata": {},
   "outputs": [
    {
     "name": "stdout",
     "output_type": "stream",
     "text": [
      "Number of non-character text in business: 20348\n",
      "Number of non-character text in tech: 15217\n",
      "Number of non-character text in politics: 12242\n",
      "Number of non-character text in sport: 15187\n",
      "Number of non-character text in entertainment: 12553\n"
     ]
    }
   ],
   "source": [
    "import re\n",
    "categories = df.groupby('Category')\n",
    "for category in df.Category.unique():\n",
    "    corpus = ' '.join(categories.get_group(category)['Text'])\n",
    "    regexp = re.compile('[^a-z A-Z]+') # ^ means not a-z or A-Z or ' ' important to include the space!\n",
    "    punc = [string for text in corpus for string in text if regexp.search(string)]\n",
    "    print(f'Number of non-character text in {category}: {len(punc)}')"
   ]
  },
  {
   "cell_type": "code",
   "execution_count": 7,
   "id": "631e0efa",
   "metadata": {},
   "outputs": [],
   "source": [
    "# ! python -m spacy download en_core_web_sm"
   ]
  },
  {
   "cell_type": "code",
   "execution_count": 9,
   "id": "88967095",
   "metadata": {},
   "outputs": [
    {
     "name": "stdout",
     "output_type": "stream",
     "text": [
      "CPU times: user 1min 9s, sys: 489 ms, total: 1min 10s\n",
      "Wall time: 1min 10s\n"
     ]
    }
   ],
   "source": [
    "%%time\n",
    "nlp = spacy.load(\"en_core_web_sm\")\n",
    "\n",
    "def clean(doc):\n",
    "    return \" \".join(token.lemma_ for token in nlp(doc)\\\n",
    "                   if not token.is_stop and token.is_alpha\\\n",
    "                  and len(token) > 1)\n",
    "\n",
    "df['prepro'] = df['Text'].apply(clean)"
   ]
  },
  {
   "cell_type": "code",
   "execution_count": 10,
   "id": "040e2497",
   "metadata": {},
   "outputs": [
    {
     "data": {
      "text/html": [
       "<div>\n",
       "<style scoped>\n",
       "    .dataframe tbody tr th:only-of-type {\n",
       "        vertical-align: middle;\n",
       "    }\n",
       "\n",
       "    .dataframe tbody tr th {\n",
       "        vertical-align: top;\n",
       "    }\n",
       "\n",
       "    .dataframe thead th {\n",
       "        text-align: right;\n",
       "    }\n",
       "</style>\n",
       "<table border=\"1\" class=\"dataframe\">\n",
       "  <thead>\n",
       "    <tr style=\"text-align: right;\">\n",
       "      <th></th>\n",
       "      <th>ArticleId</th>\n",
       "      <th>Text</th>\n",
       "      <th>Category</th>\n",
       "      <th>prepro</th>\n",
       "    </tr>\n",
       "  </thead>\n",
       "  <tbody>\n",
       "    <tr>\n",
       "      <th>286</th>\n",
       "      <td>1517</td>\n",
       "      <td>falconer rebuts  charade  claims concessions o...</td>\n",
       "      <td>politics</td>\n",
       "      <td>falconer rebut charade claim concession bill c...</td>\n",
       "    </tr>\n",
       "    <tr>\n",
       "      <th>1370</th>\n",
       "      <td>2112</td>\n",
       "      <td>warning over windows word files writing a micr...</td>\n",
       "      <td>tech</td>\n",
       "      <td>warn windows word file write microsoft word do...</td>\n",
       "    </tr>\n",
       "    <tr>\n",
       "      <th>1483</th>\n",
       "      <td>1904</td>\n",
       "      <td>beastie boys win sampling battle us rappers be...</td>\n",
       "      <td>entertainment</td>\n",
       "      <td>beastie boy win sample battle rapper beastie b...</td>\n",
       "    </tr>\n",
       "    <tr>\n",
       "      <th>487</th>\n",
       "      <td>317</td>\n",
       "      <td>takeover offer for sunderland fc bob murray  c...</td>\n",
       "      <td>business</td>\n",
       "      <td>takeover offer sunderland fc bob murray chairm...</td>\n",
       "    </tr>\n",
       "    <tr>\n",
       "      <th>708</th>\n",
       "      <td>18</td>\n",
       "      <td>connors boost for british tennis former world ...</td>\n",
       "      <td>sport</td>\n",
       "      <td>connor boost british tennis world number jimmy...</td>\n",
       "    </tr>\n",
       "  </tbody>\n",
       "</table>\n",
       "</div>"
      ],
      "text/plain": [
       "      ArticleId                                               Text  \\\n",
       "286        1517  falconer rebuts  charade  claims concessions o...   \n",
       "1370       2112  warning over windows word files writing a micr...   \n",
       "1483       1904  beastie boys win sampling battle us rappers be...   \n",
       "487         317  takeover offer for sunderland fc bob murray  c...   \n",
       "708          18  connors boost for british tennis former world ...   \n",
       "\n",
       "           Category                                             prepro  \n",
       "286        politics  falconer rebut charade claim concession bill c...  \n",
       "1370           tech  warn windows word file write microsoft word do...  \n",
       "1483  entertainment  beastie boy win sample battle rapper beastie b...  \n",
       "487        business  takeover offer sunderland fc bob murray chairm...  \n",
       "708           sport  connor boost british tennis world number jimmy...  "
      ]
     },
     "execution_count": 10,
     "metadata": {},
     "output_type": "execute_result"
    }
   ],
   "source": [
    "df.sample(5, random_state=59)"
   ]
  },
  {
   "cell_type": "markdown",
   "id": "e3263273",
   "metadata": {},
   "source": [
    "### Feature Engineering , Modelling & Accuracy Assessment"
   ]
  },
  {
   "cell_type": "markdown",
   "id": "382199f6",
   "metadata": {},
   "source": [
    "Split data into train and validation"
   ]
  },
  {
   "cell_type": "code",
   "execution_count": 12,
   "id": "88affb43",
   "metadata": {},
   "outputs": [],
   "source": [
    "X_train, X_valid, y_train, y_valid = train_test_split(df['prepro'], \n",
    "                                                      df['Category'],\n",
    "                                                      test_size=0.20, random_state=42)\n",
    "X_train.shape, X_valid.shape\n",
    "\n",
    "def plot_confusion_matrix(cm, classes):\n",
    "    cm = cm.astype('float') / cm.sum(axis=1)[:, np.newaxis] \n",
    "    plt.figure(figsize=(6,5))\n",
    "    sn.heatmap(cm, annot=True, fmt='.2', cmap='Blues', xticklabels=classes, yticklabels=classes)\n",
    "    plt.ylabel('True label',fontsize=15)\n",
    "    plt.xlabel('Predicted label',fontsize=15)\n",
    "    plt.xticks(rotation=45)\n",
    "    plt.yticks(rotation=45)\n",
    "    plt.tight_layout()\n",
    "    plt.savefig('../plots/cm_bbc.png')\n",
    "    plt.show()"
   ]
  },
  {
   "cell_type": "markdown",
   "id": "63e5b309",
   "metadata": {},
   "source": [
    "#### Logisitc Regression"
   ]
  },
  {
   "cell_type": "code",
   "execution_count": 13,
   "id": "36ab2093",
   "metadata": {},
   "outputs": [
    {
     "name": "stdout",
     "output_type": "stream",
     "text": [
      "CPU times: user 5.91 s, sys: 6.28 s, total: 12.2 s\n",
      "Wall time: 1.81 s\n",
      "Accuracy Training Data:  1.0\n"
     ]
    },
    {
     "data": {
      "image/png": "[encoded data removed]",
      "text/plain": [
       "<Figure size 432x360 with 2 Axes>"
      ]
     },
     "metadata": {
      "needs_background": "light"
     },
     "output_type": "display_data"
    },
    {
     "name": "stdout",
     "output_type": "stream",
     "text": [
      "Accuracy Test Data:  0.9765100671140939\n",
      "               precision    recall  f1-score   support\n",
      "\n",
      "     business       0.96      0.99      0.97        75\n",
      "entertainment       0.98      0.98      0.98        46\n",
      "     politics       0.96      0.96      0.96        56\n",
      "        sport       0.98      1.00      0.99        63\n",
      "         tech       1.00      0.95      0.97        58\n",
      "\n",
      "     accuracy                           0.98       298\n",
      "    macro avg       0.98      0.98      0.98       298\n",
      " weighted avg       0.98      0.98      0.98       298\n",
      "\n"
     ]
    }
   ],
   "source": [
    "pipe = Pipeline([('bow', CountVectorizer(binary=True)), \n",
    "                   ('clf', LogisticRegression(random_state=42))])\n",
    "%time pipe.fit(X_train, y_train)\n",
    "y_pred_training_data = pipe.predict(X_train)\n",
    "print(f\"Accuracy Training Data: \", accuracy_score(y_true=y_train, y_pred=y_pred_training_data))   \n",
    "    \n",
    "results = pd.DataFrame()\n",
    "y_pred = pipe.predict(X_valid) \n",
    "classes = pipe.classes_\n",
    "cm = confusion_matrix(y_true=y_valid, y_pred=y_pred)\n",
    "plot_confusion_matrix(cm, classes)\n",
    "accuracy =  accuracy_score(y_true=y_valid, y_pred=y_pred)\n",
    "print(\"Accuracy Test Data: \", accuracy)\n",
    "print(classification_report(y_true=y_valid, y_pred=y_pred))\n",
    "results = results.append({'model': 'logistic regression', 'vec': 'bow', 'accuracy': accuracy}, ignore_index=True)"
   ]
  },
  {
   "cell_type": "markdown",
   "id": "ea5407f3",
   "metadata": {},
   "source": [
    "#### Support Vector Machine"
   ]
  },
  {
   "cell_type": "code",
   "execution_count": 14,
   "id": "9140d530",
   "metadata": {},
   "outputs": [
    {
     "name": "stdout",
     "output_type": "stream",
     "text": [
      "CPU times: user 2.72 s, sys: 3.21 ms, total: 2.72 s\n",
      "Wall time: 2.73 s\n",
      "Accuracy Training Data:  1.0\n"
     ]
    },
    {
     "data": {
      "image/png": "[encoded data removed]",
      "text/plain": [
       "<Figure size 432x360 with 2 Axes>"
      ]
     },
     "metadata": {
      "needs_background": "light"
     },
     "output_type": "display_data"
    },
    {
     "name": "stdout",
     "output_type": "stream",
     "text": [
      "Accuracy Test Data:  0.9697986577181208\n",
      "               precision    recall  f1-score   support\n",
      "\n",
      "     business       0.96      0.99      0.97        75\n",
      "entertainment       0.96      1.00      0.98        46\n",
      "     politics       0.96      0.93      0.95        56\n",
      "        sport       1.00      1.00      1.00        63\n",
      "         tech       0.96      0.93      0.95        58\n",
      "\n",
      "     accuracy                           0.97       298\n",
      "    macro avg       0.97      0.97      0.97       298\n",
      " weighted avg       0.97      0.97      0.97       298\n",
      "\n"
     ]
    }
   ],
   "source": [
    "pipe = Pipeline([('bow', CountVectorizer(binary=True)), \n",
    "                 ('clf', SVC(random_state=42, kernel='rbf'))])\n",
    "%time pipe.fit(X_train, y_train)\n",
    "y_pred_training_data = pipe.predict(X_train)\n",
    "print(f\"Accuracy Training Data: \", accuracy_score(y_true=y_train, y_pred=y_pred_training_data))\n",
    "\n",
    "\n",
    "y_pred = pipe.predict(X_valid) \n",
    "classes = pipe.classes_\n",
    "cm = confusion_matrix(y_true=y_valid, y_pred=y_pred)\n",
    "plot_confusion_matrix(cm, classes)\n",
    "accuracy =  accuracy_score(y_true=y_valid, y_pred=y_pred)\n",
    "print(\"Accuracy Test Data: \", accuracy)\n",
    "print(classification_report(y_true=y_valid, y_pred=y_pred))\n",
    "results = results.append({'model': 'svm', 'vec': 'bow', 'accuracy': accuracy}, ignore_index=True)"
   ]
  },
  {
   "cell_type": "code",
   "execution_count": 15,
   "id": "81446181",
   "metadata": {},
   "outputs": [
    {
     "name": "stdout",
     "output_type": "stream",
     "text": [
      "CPU times: user 2.64 s, sys: 47.2 ms, total: 2.69 s\n",
      "Wall time: 2.72 s\n",
      "Accuracy Training Data:  1.0\n"
     ]
    },
    {
     "data": {
      "image/png": "[encoded data removed]",
      "text/plain": [
       "<Figure size 432x360 with 2 Axes>"
      ]
     },
     "metadata": {
      "needs_background": "light"
     },
     "output_type": "display_data"
    },
    {
     "name": "stdout",
     "output_type": "stream",
     "text": [
      "Accuracy Test Data:  0.9630872483221476\n",
      "               precision    recall  f1-score   support\n",
      "\n",
      "     business       0.93      0.99      0.95        75\n",
      "entertainment       0.96      0.98      0.97        46\n",
      "     politics       0.96      0.93      0.95        56\n",
      "        sport       0.98      1.00      0.99        63\n",
      "         tech       1.00      0.91      0.95        58\n",
      "\n",
      "     accuracy                           0.96       298\n",
      "    macro avg       0.97      0.96      0.96       298\n",
      " weighted avg       0.96      0.96      0.96       298\n",
      "\n"
     ]
    }
   ],
   "source": [
    "pipe = Pipeline([('tfidf', TfidfVectorizer()), \n",
    "                 ('clf', SVC(random_state=42, kernel='rbf'))])\n",
    "%time pipe.fit(X_train, y_train)\n",
    "y_pred_training_data = pipe.predict(X_train)\n",
    "print(f\"Accuracy Training Data: \", accuracy_score(y_true=y_train, y_pred=y_pred_training_data))\n",
    "\n",
    "\n",
    "y_pred = pipe.predict(X_valid) \n",
    "classes = pipe.classes_\n",
    "cm = confusion_matrix(y_true=y_valid, y_pred=y_pred)\n",
    "plot_confusion_matrix(cm, classes)\n",
    "accuracy =  accuracy_score(y_true=y_valid, y_pred=y_pred)\n",
    "print(\"Accuracy Test Data: \", accuracy)\n",
    "print(classification_report(y_true=y_valid, y_pred=y_pred))\n",
    "results = results.append({'model': 'svm', 'vec': 'tfidf', 'accuracy': accuracy}, ignore_index=True)"
   ]
  },
  {
   "cell_type": "markdown",
   "id": "73a74c82",
   "metadata": {},
   "source": [
    "#### Naive Bayes"
   ]
  },
  {
   "cell_type": "code",
   "execution_count": 16,
   "id": "a87911df",
   "metadata": {},
   "outputs": [
    {
     "name": "stdout",
     "output_type": "stream",
     "text": [
      "CPU times: user 147 ms, sys: 7.55 ms, total: 155 ms\n",
      "Wall time: 155 ms\n",
      "Accuracy Training Data:  0.9932885906040269\n"
     ]
    },
    {
     "data": {
      "image/png": "[encoded data removed]",
      "text/plain": [
       "<Figure size 432x360 with 2 Axes>"
      ]
     },
     "metadata": {
      "needs_background": "light"
     },
     "output_type": "display_data"
    },
    {
     "name": "stdout",
     "output_type": "stream",
     "text": [
      "Accuracy Test Data:  0.9798657718120806\n",
      "               precision    recall  f1-score   support\n",
      "\n",
      "     business       0.97      0.99      0.98        75\n",
      "entertainment       1.00      0.96      0.98        46\n",
      "     politics       0.95      0.98      0.96        56\n",
      "        sport       1.00      1.00      1.00        63\n",
      "         tech       0.98      0.97      0.97        58\n",
      "\n",
      "     accuracy                           0.98       298\n",
      "    macro avg       0.98      0.98      0.98       298\n",
      " weighted avg       0.98      0.98      0.98       298\n",
      "\n"
     ]
    }
   ],
   "source": [
    "pipe = Pipeline([('bow', CountVectorizer(binary=True)), \n",
    "                 ('clf', MultinomialNB())])\n",
    "%time pipe.fit(X_train, y_train)\n",
    "y_pred_training_data = pipe.predict(X_train)\n",
    "print(f\"Accuracy Training Data: \", accuracy_score(y_true=y_train, y_pred=y_pred_training_data))\n",
    "\n",
    "y_pred = pipe.predict(X_valid) \n",
    "classes = pipe.classes_\n",
    "cm = confusion_matrix(y_true=y_valid, y_pred=y_pred)\n",
    "plot_confusion_matrix(cm, classes)\n",
    "accuracy =  accuracy_score(y_true=y_valid, y_pred=y_pred)\n",
    "print(\"Accuracy Test Data: \", accuracy)\n",
    "print(classification_report(y_true=y_valid, y_pred=y_pred))\n",
    "results = results.append({'model': 'naive bayes', 'vec': 'bow', 'accuracy': accuracy}, ignore_index=True)"
   ]
  },
  {
   "cell_type": "code",
   "execution_count": 20,
   "id": "8170b8fe",
   "metadata": {},
   "outputs": [
    {
     "name": "stdout",
     "output_type": "stream",
     "text": [
      "CPU times: user 153 ms, sys: 4.1 ms, total: 157 ms\n",
      "Wall time: 158 ms\n",
      "Accuracy Training Data:  0.9941275167785235\n"
     ]
    },
    {
     "data": {
      "image/png": "[encoded data removed]",
      "text/plain": [
       "<Figure size 432x360 with 2 Axes>"
      ]
     },
     "metadata": {
      "needs_background": "light"
     },
     "output_type": "display_data"
    },
    {
     "name": "stdout",
     "output_type": "stream",
     "text": [
      "Accuracy Test Data:  0.9563758389261745\n",
      "               precision    recall  f1-score   support\n",
      "\n",
      "     business       0.94      0.97      0.95        75\n",
      "entertainment       1.00      0.96      0.98        46\n",
      "     politics       0.91      0.95      0.93        56\n",
      "        sport       0.97      1.00      0.98        63\n",
      "         tech       0.98      0.90      0.94        58\n",
      "\n",
      "     accuracy                           0.96       298\n",
      "    macro avg       0.96      0.95      0.96       298\n",
      " weighted avg       0.96      0.96      0.96       298\n",
      "\n"
     ]
    }
   ],
   "source": [
    "pipe = Pipeline([('tfidf', TfidfVectorizer()), \n",
    "                 ('clf', MultinomialNB())])\n",
    "%time pipe.fit(X_train, y_train)\n",
    "y_pred_training_data = pipe.predict(X_train)\n",
    "print(f\"Accuracy Training Data: \", accuracy_score(y_true=y_train, y_pred=y_pred_training_data))\n",
    "\n",
    "y_pred = pipe.predict(X_valid) \n",
    "classes = pipe.classes_\n",
    "cm = confusion_matrix(y_true=y_valid, y_pred=y_pred)\n",
    "plot_confusion_matrix(cm, classes)\n",
    "accuracy =  accuracy_score(y_true=y_valid, y_pred=y_pred)\n",
    "print(\"Accuracy Test Data: \", accuracy)\n",
    "print(classification_report(y_true=y_valid, y_pred=y_pred))\n",
    "results = results.append({'model': 'naive bayes', 'vec': 'tfidf', 'accuracy': accuracy}, ignore_index=True)"
   ]
  },
  {
   "cell_type": "code",
   "execution_count": 21,
   "id": "63088c66",
   "metadata": {},
   "outputs": [
    {
     "data": {
      "text/html": [
       "<div>\n",
       "<style scoped>\n",
       "    .dataframe tbody tr th:only-of-type {\n",
       "        vertical-align: middle;\n",
       "    }\n",
       "\n",
       "    .dataframe tbody tr th {\n",
       "        vertical-align: top;\n",
       "    }\n",
       "\n",
       "    .dataframe thead th {\n",
       "        text-align: right;\n",
       "    }\n",
       "</style>\n",
       "<table border=\"1\" class=\"dataframe\">\n",
       "  <thead>\n",
       "    <tr style=\"text-align: right;\">\n",
       "      <th></th>\n",
       "      <th>model</th>\n",
       "      <th>vec</th>\n",
       "      <th>accuracy</th>\n",
       "    </tr>\n",
       "  </thead>\n",
       "  <tbody>\n",
       "    <tr>\n",
       "      <th>0</th>\n",
       "      <td>logistic regression</td>\n",
       "      <td>bow</td>\n",
       "      <td>0.976510</td>\n",
       "    </tr>\n",
       "    <tr>\n",
       "      <th>1</th>\n",
       "      <td>svm</td>\n",
       "      <td>bow</td>\n",
       "      <td>0.969799</td>\n",
       "    </tr>\n",
       "    <tr>\n",
       "      <th>2</th>\n",
       "      <td>svm</td>\n",
       "      <td>tfidf</td>\n",
       "      <td>0.963087</td>\n",
       "    </tr>\n",
       "    <tr>\n",
       "      <th>3</th>\n",
       "      <td>naive bayes</td>\n",
       "      <td>bow</td>\n",
       "      <td>0.979866</td>\n",
       "    </tr>\n",
       "    <tr>\n",
       "      <th>4</th>\n",
       "      <td>naive bayes</td>\n",
       "      <td>tfidf</td>\n",
       "      <td>0.956376</td>\n",
       "    </tr>\n",
       "  </tbody>\n",
       "</table>\n",
       "</div>"
      ],
      "text/plain": [
       "                 model    vec  accuracy\n",
       "0  logistic regression    bow  0.976510\n",
       "1                  svm    bow  0.969799\n",
       "2                  svm  tfidf  0.963087\n",
       "3          naive bayes    bow  0.979866\n",
       "4          naive bayes  tfidf  0.956376"
      ]
     },
     "execution_count": 21,
     "metadata": {},
     "output_type": "execute_result"
    }
   ],
   "source": [
    "results"
   ]
  },
  {
   "cell_type": "markdown",
   "id": "6e5f42b4",
   "metadata": {},
   "source": [
    "The Naive Bayes did the best! :)"
   ]
  },
  {
   "cell_type": "code",
   "execution_count": null,
   "id": "0d531785",
   "metadata": {},
   "outputs": [],
   "source": [
    "pipe = Pipeline([('bow', CountVectorizer(binary=True)), \n",
    "                 ('clf', MultinomialNB())])\n",
    "%time pipe.fit(X_train, y_train)"
   ]
  },
  {
   "cell_type": "markdown",
   "id": "d45ccb6c",
   "metadata": {},
   "source": [
    "### Final test dataset"
   ]
  },
  {
   "cell_type": "code",
   "execution_count": 18,
   "id": "ae916fff",
   "metadata": {},
   "outputs": [],
   "source": [
    "fp = f'{home_path}/git/30-days-of-NLP/notebooks/Data/learn-ai-bbc/BBC News Test.csv'\n",
    "df_test = pd.read_csv(fp)\n",
    "df_test['prepro'] = df_test['Text'].apply(clean)\n",
    "y_pred = pipe.predict(df_test['prepro'])\n",
    "df_test['Category'] = y_pred\n",
    "df_test.drop(['Text', 'prepro'], axis=1).to_csv('submission.csv')"
   ]
  },
  {
   "cell_type": "markdown",
   "id": "3139f0a1",
   "metadata": {},
   "source": [
    "Once sent to Kaggle I found that I achieved a score of 0.97551 on the logistic regression model and a score of 0.96462 with the naive bayes model!"
   ]
  },
  {
   "cell_type": "code",
   "execution_count": null,
   "id": "212d6292",
   "metadata": {},
   "outputs": [],
   "source": []
  }
 ],
 "metadata": {
  "kernelspec": {
   "display_name": "Python 3 (ipykernel)",
   "language": "python",
   "name": "python3"
  },
  "language_info": {
   "codemirror_mode": {
    "name": "ipython",
    "version": 3
   },
   "file_extension": ".py",
   "mimetype": "text/x-python",
   "name": "python",
   "nbconvert_exporter": "python",
   "pygments_lexer": "ipython3",
   "version": "3.7.10"
  }
 },
 "nbformat": 4,
 "nbformat_minor": 5
}
