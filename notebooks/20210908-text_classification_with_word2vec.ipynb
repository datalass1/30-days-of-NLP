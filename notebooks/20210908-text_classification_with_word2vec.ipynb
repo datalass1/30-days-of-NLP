{
 "cells": [
  {
   "cell_type": "markdown",
   "id": "d7d6b589",
   "metadata": {},
   "source": [
    "# Word2Vec for Text Classification\n",
    "We will use the sentiment labelled sentences dataset from UCI repository http://archive.ics.uci.edu/ml/datasets/Sentiment+Labelled+Sentences\n",
    "\n",
    "The dataset consists of 1500 positive, and 1500 negative sentiment sentences from Amazon, Yelp, IMDB."
   ]
  },
  {
   "cell_type": "code",
   "execution_count": 10,
   "id": "e8753f0e",
   "metadata": {},
   "outputs": [
    {
     "name": "stderr",
     "output_type": "stream",
     "text": [
      "[nltk_data] Downloading package stopwords to /home/rachel/nltk_data...\n",
      "[nltk_data]   Package stopwords is already up-to-date!\n",
      "[nltk_data] Downloading package punkt to /home/rachel/nltk_data...\n",
      "[nltk_data]   Package punkt is already up-to-date!\n"
     ]
    }
   ],
   "source": [
    "#basic imports\n",
    "import warnings\n",
    "warnings.filterwarnings('ignore')\n",
    "import os\n",
    "import wget\n",
    "import gzip\n",
    "import shutil\n",
    "from time import time\n",
    "\n",
    "#pre-processing imports\n",
    "import nltk\n",
    "nltk.download('stopwords')\n",
    "nltk.download('punkt')\n",
    "from nltk.tokenize import word_tokenize\n",
    "from nltk.corpus import stopwords\n",
    "from string import punctuation\n",
    "\n",
    "#imports related to modeling\n",
    "import numpy as np\n",
    "from gensim.models import Word2Vec, KeyedVectors\n",
    "from sklearn.linear_model import LogisticRegression\n",
    "from sklearn.model_selection import train_test_split\n",
    "from sklearn.metrics import classification_report"
   ]
  },
  {
   "cell_type": "markdown",
   "id": "bd810572",
   "metadata": {},
   "source": [
    "Download & load the pre-trained embedding model, we will use the Google News vectors:"
   ]
  },
  {
   "cell_type": "code",
   "execution_count": 28,
   "id": "8d2fa234",
   "metadata": {},
   "outputs": [
    {
     "name": "stdout",
     "output_type": "stream",
     "text": [
      "CPU times: user 9.31 s, sys: 32.9 s, total: 42.3 s\n",
      "Wall time: 42.4 s\n",
      "done loading Word2Vec\n"
     ]
    }
   ],
   "source": [
    "path_to_model = 'DATAPATH/GoogleNews-vectors-negative300.bin'\n",
    "\n",
    "if not os.path.exists(path_to_model):\n",
    "    !mkdir DATAPATH\n",
    "    !wget -P DATAPATH https://s3.amazonaws.com/dl4j-distribution/GoogleNews-vectors-negative300.bin.gz\n",
    "    !gunzip DATAPATH/GoogleNews-vectors-negative300.bin.gz\n",
    "\n",
    "#Load W2V model. This will take some time. \n",
    "%time w2v_model = KeyedVectors.load_word2vec_format(path_to_model, binary=True)\n",
    "print('done loading Word2Vec')"
   ]
  },
  {
   "cell_type": "markdown",
   "id": "15aa68c9",
   "metadata": {},
   "source": [
    "Download the data:"
   ]
  },
  {
   "cell_type": "code",
   "execution_count": 48,
   "id": "9a705a86",
   "metadata": {},
   "outputs": [
    {
     "name": "stdout",
     "output_type": "stream",
     "text": [
      "File already exists\n"
     ]
    }
   ],
   "source": [
    "training_data_path = f\"Data/sentiment_sentences.txt\"\n",
    "if not os.path.exists(training_data_path):\n",
    "    github_prefix = 'https://github.com/practical-nlp/practical-nlp-code/blob/master/Ch4/Data/sentiment%20labelled%20sentences'\n",
    "    !mkdir Data\n",
    "    !wget -P Data {github_prefix}/amazon_cells_labelled.txt?raw=True\n",
    "    !wget -P Data {github_prefix}/imdb_labelled.txt?raw=True\n",
    "    !wget -P Data {github_prefix}/yelp_labelled.txt?raw=True\n",
    "    file = open(fil, 'w')\n",
    "    file.close()\n",
    "    filenames = ['amazon_cells_labelled.txt?raw=True', 'imdb_labelled.txt?raw=True', 'yelp_labelled.txt?raw=True']\n",
    "    with open(training_data_path, 'w') as outfile:\n",
    "        for fname in filenames:\n",
    "            with open(f'Data/{fname}') as infile:\n",
    "                outfile.write(infile.read())\n",
    "    print(\"File created\")\n",
    "else:\n",
    "    print(\"File already exists\")"
   ]
  },
  {
   "cell_type": "markdown",
   "id": "a254f652",
   "metadata": {},
   "source": [
    "Load the data"
   ]
  },
  {
   "cell_type": "code",
   "execution_count": 62,
   "id": "ea6d764b",
   "metadata": {},
   "outputs": [
    {
     "name": "stdout",
     "output_type": "stream",
     "text": [
      "3000 3000\n"
     ]
    },
    {
     "data": {
      "text/plain": [
       "[('So there is no way for me to plug it in here in the US unless I go by a converter.',\n",
       "  0),\n",
       " ('Good case, Excellent value.', 1),\n",
       " ('Great for the jawbone.', 1),\n",
       " ('Tied to charger for conversations lasting more than 45 minutes.MAJOR PROBLEMS!!',\n",
       "  0),\n",
       " ('The mic is great.', 1)]"
      ]
     },
     "execution_count": 62,
     "metadata": {},
     "output_type": "execute_result"
    }
   ],
   "source": [
    "#the file consists of tab separated sentences and categories {1: positive, 0:negative}\n",
    "texts = []\n",
    "cats = []\n",
    "fh = open(training_data_path)\n",
    "for line in fh:\n",
    "    text, sentiment = line.split(\"\\t\")\n",
    "    texts.append(text)\n",
    "    cats.append(int(sentiment[:1]))\n",
    "#Inspect the dataset\n",
    "print(len(cats), len(texts))\n",
    "list(zip(texts[:5], cats[:5]))"
   ]
  },
  {
   "cell_type": "code",
   "execution_count": 63,
   "id": "44ee8557",
   "metadata": {},
   "outputs": [
    {
     "name": "stdout",
     "output_type": "stream",
     "text": [
      "3000 3000\n",
      "['good', 'case', 'excellent', 'value']\n",
      "1\n"
     ]
    }
   ],
   "source": [
    "#preprocess the text.\n",
    "def preprocess_corpus(texts):\n",
    "    mystopwords = set(stopwords.words(\"english\"))\n",
    "    def remove_stops_digits(tokens):\n",
    "        #Nested function that lowercases, removes stopwords and digits from a list of tokens\n",
    "        return [token.lower() for token in tokens if token.lower() not in mystopwords and not token.isdigit()\n",
    "               and token not in punctuation]\n",
    "    #This return statement below uses the above function to process twitter tokenizer output further. \n",
    "    return [remove_stops_digits(word_tokenize(text)) for text in texts]\n",
    "\n",
    "texts_processed = preprocess_corpus(texts)\n",
    "print(len(cats), len(texts_processed))\n",
    "print(texts_processed[1])\n",
    "print(cats[1])"
   ]
  },
  {
   "cell_type": "code",
   "execution_count": 64,
   "id": "6975efcf",
   "metadata": {},
   "outputs": [
    {
     "name": "stdout",
     "output_type": "stream",
     "text": [
      "3000\n"
     ]
    }
   ],
   "source": [
    "# Creating a feature vector by averaging all embeddings for all sentences\n",
    "def embedding_feats(list_of_lists):\n",
    "    DIMENSION = 300\n",
    "    zero_vector = np.zeros(DIMENSION)\n",
    "    feats = []\n",
    "    for tokens in list_of_lists:\n",
    "        feat_for_this =  np.zeros(DIMENSION)\n",
    "        count_for_this = 0 + 1e-5 # to avoid divide-by-zero \n",
    "        for token in tokens:\n",
    "            if token in w2v_model:\n",
    "                feat_for_this += w2v_model[token]\n",
    "                count_for_this +=1\n",
    "        if(count_for_this!=0):\n",
    "            feats.append(feat_for_this/count_for_this) \n",
    "        else:\n",
    "            feats.append(zero_vector)\n",
    "    return feats\n",
    "\n",
    "\n",
    "train_vectors = embedding_feats(texts_processed)\n",
    "print(len(train_vectors))"
   ]
  },
  {
   "cell_type": "code",
   "execution_count": 68,
   "id": "58bd53e5",
   "metadata": {},
   "outputs": [
    {
     "name": "stdout",
     "output_type": "stream",
     "text": [
      "Accuracy:  0.8266666666666667\n",
      "              precision    recall  f1-score   support\n",
      "\n",
      "           0       0.84      0.82      0.83       392\n",
      "           1       0.81      0.83      0.82       358\n",
      "\n",
      "    accuracy                           0.83       750\n",
      "   macro avg       0.83      0.83      0.83       750\n",
      "weighted avg       0.83      0.83      0.83       750\n",
      "\n"
     ]
    }
   ],
   "source": [
    "#Take any classifier (LogisticRegression here, and train/test it like before.\n",
    "classifier = LogisticRegression(random_state=42)\n",
    "train_data, test_data, train_cats, test_cats = train_test_split(train_vectors, cats)\n",
    "classifier.fit(train_data, train_cats)\n",
    "print(\"Accuracy: \", classifier.score(test_data, test_cats))\n",
    "preds = classifier.predict(test_data)\n",
    "print(classification_report(test_cats, preds))"
   ]
  },
  {
   "cell_type": "code",
   "execution_count": null,
   "id": "cc773cb2",
   "metadata": {},
   "outputs": [],
   "source": []
  }
 ],
 "metadata": {
  "kernelspec": {
   "display_name": "Python 3 (ipykernel)",
   "language": "python",
   "name": "python3"
  },
  "language_info": {
   "codemirror_mode": {
    "name": "ipython",
    "version": 3
   },
   "file_extension": ".py",
   "mimetype": "text/x-python",
   "name": "python",
   "nbconvert_exporter": "python",
   "pygments_lexer": "ipython3",
   "version": "3.7.10"
  }
 },
 "nbformat": 4,
 "nbformat_minor": 5
}
