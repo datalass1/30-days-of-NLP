{
 "cells": [
  {
   "cell_type": "markdown",
   "id": "5c580aa4-f969-49da-8eac-5f17dda2894c",
   "metadata": {},
   "source": [
    "### Using pre-trained and readily available spaCy models for **Advanced Processing**\n",
    "We can see tokenization, lemmatization, POS tagging, and several other steps in action\n",
    "\n",
    "Simple processing is: lowercasing, removal of punctuation, stemming and lemmatization. "
   ]
  },
  {
   "cell_type": "code",
   "execution_count": 10,
   "id": "34f8943d-08b7-4dfa-a4c9-803a24d2776f",
   "metadata": {},
   "outputs": [
    {
     "name": "stdout",
     "output_type": "stream",
     "text": [
      "Charles :  Charles PROPN Xxxxx True False \n",
      "\n",
      "Spencer :  Spencer PROPN Xxxxx True False \n",
      "\n",
      "Chaplin :  Chaplin PROPN Xxxxx True False \n",
      "\n",
      "was :  be AUX xxx True True \n",
      "\n",
      "born :  bear VERB xxxx True False \n",
      "\n",
      "on :  on ADP xx True True \n",
      "\n",
      "16 :  16 NUM dd False False \n",
      "\n",
      "April :  April PROPN Xxxxx True False \n",
      "\n",
      "1889 :  1889 NUM dddd False False \n",
      "\n",
      "toHannah :  toHannah PROPN xxXxxxx True False \n",
      "\n",
      "Chaplin :  Chaplin PROPN Xxxxx True False \n",
      "\n"
     ]
    }
   ],
   "source": [
    "import spacy\n",
    "nlp = spacy.load('en_core_web_sm')\n",
    "doc = nlp('Charles Spencer Chaplin was born on 16 April 1889 toHannah Chaplin')\n",
    "for token in doc:\n",
    "    print(token.text, ': ', token.lemma_, token.pos_,\n",
    "          token.shape_, token.is_alpha, token.is_stop, '\\n')"
   ]
  },
  {
   "cell_type": "markdown",
   "id": "fd982e1d-7557-4a6c-a474-adeaa5b09083",
   "metadata": {},
   "source": [
    "### Start with Simple Heuristics\n",
    "A popular approach to incorporating heuristics in your system is using regular expressions. Let’s say we’re developing a system to extract different forms of information from text documents, such as dates and phone numbers, names of people who work in a given organization, etc. While some information, such as email IDs, dates, and telephone numbers can be extracted using normal (albeit complex) regular expressions.\n",
    "\n",
    "spaCy's rule-based matching is useful for defining advanced regular expressions: https://spacy.io/usage/rule-based-matching"
   ]
  },
  {
   "cell_type": "code",
   "execution_count": 13,
   "id": "e0af8797-9575-41ff-b806-5cfd49c25e1c",
   "metadata": {},
   "outputs": [
    {
     "name": "stdout",
     "output_type": "stream",
     "text": [
      "15578876784678163569 HelloWorld 0 3 Hello, world\n",
      "15578876784678163569 HelloWorld 4 7 Hello, world\n"
     ]
    }
   ],
   "source": [
    "from spacy.matcher import Matcher\n",
    "\n",
    "nlp = spacy.load(\"en_core_web_sm\")\n",
    "matcher = Matcher(nlp.vocab)\n",
    "# Add match ID \"HelloWorld\" with no callback and one pattern\n",
    "pattern = [{\"LOWER\": \"hello\"}, {\"IS_PUNCT\": True}, {\"LOWER\": \"world\"}]\n",
    "matcher.add(\"HelloWorld\", [pattern])\n",
    "\n",
    "doc = nlp(\"Hello, world! Hello, world! Hello world!\") # the third hello world is missing the punctuation. \n",
    "matches = matcher(doc)\n",
    "for match_id, start, end in matches:\n",
    "    string_id = nlp.vocab.strings[match_id]  # Get string representation\n",
    "    span = doc[start:end]  # The matched span\n",
    "    print(match_id, string_id, start, end, span.text)"
   ]
  },
  {
   "cell_type": "code",
   "execution_count": null,
   "id": "6faea0fe-65ed-4c63-a342-4c303ba963b1",
   "metadata": {},
   "outputs": [],
   "source": []
  }
 ],
 "metadata": {
  "kernelspec": {
   "display_name": "Python 3 (ipykernel)",
   "language": "python",
   "name": "python3"
  },
  "language_info": {
   "codemirror_mode": {
    "name": "ipython",
    "version": 3
   },
   "file_extension": ".py",
   "mimetype": "text/x-python",
   "name": "python",
   "nbconvert_exporter": "python",
   "pygments_lexer": "ipython3",
   "version": "3.9.6"
  }
 },
 "nbformat": 4,
 "nbformat_minor": 5
}
