{
 "cells": [
  {
   "cell_type": "markdown",
   "id": "343aad22",
   "metadata": {},
   "source": [
    "### Text Classification with Naive Bayes, Logistic Regression, SVM\n",
    "Dataset from Figure-Eight which consists of approximately 8000 news articles, which were tagged as relevant or not relevant to the US Economy.\n",
    "\n",
    "Source of code: https://github.com/practical-nlp/practical-nlp-code/blob/master/Ch4/01_OnePipeline_ManyClassifiers.ipynb"
   ]
  },
  {
   "cell_type": "code",
   "execution_count": 1,
   "id": "55b04ff5",
   "metadata": {},
   "outputs": [],
   "source": [
    "import warnings\n",
    "warnings.filterwarnings('ignore')\n",
    "from time import time\n",
    "import string\n",
    "import re\n",
    "from collections import Counter\n",
    "import numpy as np\n",
    "import pandas as pd # to work with csv files\n",
    "import matplotlib as mpl \n",
    "import matplotlib.cm as cm \n",
    "import matplotlib.pyplot as plt\n",
    "import seaborn as sn\n",
    "from sklearn.feature_extraction.text import CountVectorizer\n",
    "import sklearn.feature_extraction._stop_words as stop_words\n",
    "from sklearn.naive_bayes import MultinomialNB\n",
    "from sklearn.linear_model import LogisticRegression\n",
    "from sklearn.svm import LinearSVC\n",
    "from sklearn.model_selection import train_test_split\n",
    "from sklearn.metrics import roc_auc_score, accuracy_score, confusion_matrix \n",
    "from imblearn.over_sampling import RandomOverSampler"
   ]
  },
  {
   "cell_type": "markdown",
   "id": "7d0f34b2",
   "metadata": {},
   "source": [
    "Get the data:"
   ]
  },
  {
   "cell_type": "code",
   "execution_count": 2,
   "id": "ef6a07ae",
   "metadata": {},
   "outputs": [],
   "source": [
    "# try:\n",
    "#     !wget -P DATAPATH https://raw.githubusercontent.com/practical-nlp/practical-nlp/master/Ch4/Data/Full-Economic-News-DFE-839861.csv\n",
    "#     !ls -lah DATAPATH"
   ]
  },
  {
   "cell_type": "markdown",
   "id": "edf1330a",
   "metadata": {},
   "source": [
    "### Step 1: Load and exploratory data analysis\n",
    "View the data, the size and proportions of the data classes. Reveals a class imbalance."
   ]
  },
  {
   "cell_type": "code",
   "execution_count": 3,
   "id": "e2831421",
   "metadata": {},
   "outputs": [
    {
     "data": {
      "text/html": [
       "<div>\n",
       "<style scoped>\n",
       "    .dataframe tbody tr th:only-of-type {\n",
       "        vertical-align: middle;\n",
       "    }\n",
       "\n",
       "    .dataframe tbody tr th {\n",
       "        vertical-align: top;\n",
       "    }\n",
       "\n",
       "    .dataframe thead th {\n",
       "        text-align: right;\n",
       "    }\n",
       "</style>\n",
       "<table border=\"1\" class=\"dataframe\">\n",
       "  <thead>\n",
       "    <tr style=\"text-align: right;\">\n",
       "      <th></th>\n",
       "      <th>_unit_id</th>\n",
       "      <th>_golden</th>\n",
       "      <th>_unit_state</th>\n",
       "      <th>_trusted_judgments</th>\n",
       "      <th>_last_judgment_at</th>\n",
       "      <th>positivity</th>\n",
       "      <th>positivity:confidence</th>\n",
       "      <th>relevance</th>\n",
       "      <th>relevance:confidence</th>\n",
       "      <th>articleid</th>\n",
       "      <th>date</th>\n",
       "      <th>headline</th>\n",
       "      <th>positivity_gold</th>\n",
       "      <th>relevance_gold</th>\n",
       "      <th>text</th>\n",
       "    </tr>\n",
       "  </thead>\n",
       "  <tbody>\n",
       "    <tr>\n",
       "      <th>0</th>\n",
       "      <td>842613455</td>\n",
       "      <td>False</td>\n",
       "      <td>finalized</td>\n",
       "      <td>3</td>\n",
       "      <td>12/5/15 17:48</td>\n",
       "      <td>3.0</td>\n",
       "      <td>0.64</td>\n",
       "      <td>yes</td>\n",
       "      <td>0.64</td>\n",
       "      <td>wsj_398217788</td>\n",
       "      <td>8/14/91</td>\n",
       "      <td>Yields on CDs Fell in the Latest Week</td>\n",
       "      <td>NaN</td>\n",
       "      <td>NaN</td>\n",
       "      <td>NEW YORK -- Yields on most certificates of dep...</td>\n",
       "    </tr>\n",
       "  </tbody>\n",
       "</table>\n",
       "</div>"
      ],
      "text/plain": [
       "    _unit_id  _golden _unit_state  _trusted_judgments _last_judgment_at  \\\n",
       "0  842613455    False   finalized                   3     12/5/15 17:48   \n",
       "\n",
       "   positivity  positivity:confidence relevance  relevance:confidence  \\\n",
       "0         3.0                   0.64       yes                  0.64   \n",
       "\n",
       "       articleid     date                               headline  \\\n",
       "0  wsj_398217788  8/14/91  Yields on CDs Fell in the Latest Week   \n",
       "\n",
       "   positivity_gold  relevance_gold  \\\n",
       "0              NaN             NaN   \n",
       "\n",
       "                                                text  \n",
       "0  NEW YORK -- Yields on most certificates of dep...  "
      ]
     },
     "metadata": {},
     "output_type": "display_data"
    },
    {
     "data": {
      "text/plain": [
       "(8000, 15)"
      ]
     },
     "metadata": {},
     "output_type": "display_data"
    },
    {
     "data": {
      "text/plain": [
       "no          0.821375\n",
       "yes         0.177500\n",
       "not sure    0.001125\n",
       "Name: relevance, dtype: float64"
      ]
     },
     "execution_count": 3,
     "metadata": {},
     "output_type": "execute_result"
    }
   ],
   "source": [
    "our_data = pd.read_csv(\"DATAPATH/Full-Economic-News-DFE-839861.csv\" , encoding = \"ISO-8859-1\" )\n",
    "display(our_data.head(1))\n",
    "display(our_data.shape) # Number of rows (instances) and columns in the dataset\n",
    "our_data[\"relevance\"].value_counts()/our_data.shape[0] # Class distribution in the dataset"
   ]
  },
  {
   "cell_type": "markdown",
   "id": "08a18815",
   "metadata": {},
   "source": [
    "Convert the relevance column (our labels) to binary outcomes of yes: 1 and no: 0"
   ]
  },
  {
   "cell_type": "code",
   "execution_count": 4,
   "id": "3618c004",
   "metadata": {},
   "outputs": [],
   "source": [
    "our_data = our_data[our_data.relevance != \"not sure\"] # removing the data where we don't want relevance=\"not sure\".\n",
    "our_data['relevance'] = our_data.relevance.map({'yes':1, 'no':0}) # relevant is 1, not-relevant is 0. \n",
    "our_data = our_data[[\"text\",\"relevance\"]] # Let us take only the two columns we need."
   ]
  },
  {
   "cell_type": "markdown",
   "id": "a1140312",
   "metadata": {},
   "source": [
    "### Step 2: Text Pre-processing\n",
    "Removing br tags, punctuation, numbers, and stopwords."
   ]
  },
  {
   "cell_type": "code",
   "execution_count": 5,
   "id": "03a10f97",
   "metadata": {},
   "outputs": [
    {
     "name": "stdout",
     "output_type": "stream",
     "text": [
      "Number of stopwords: 318\n"
     ]
    }
   ],
   "source": [
    "stopwords = stop_words.ENGLISH_STOP_WORDS \n",
    "print(f'Number of stopwords: {len(stopwords)}')\n",
    "\n",
    "def clean(doc): # doc is a string of text\n",
    "    doc = doc.replace(\"</br>\", \" \") # This text contains a lot of <br/> tags.\n",
    "    doc = \"\".join([char for char in doc if char not in string.punctuation and not char.isdigit()]) # remove punctuation and numbers\n",
    "    doc = \" \".join([token for token in doc.split() if token not in stopwords]) # remove stopwords\n",
    "    return doc"
   ]
  },
  {
   "cell_type": "markdown",
   "id": "6570f5ac",
   "metadata": {},
   "source": [
    "### Step 3: Modelling \n",
    "1. Split the data into training and test sets (75% train, 25% test)\n",
    "2. Extract features from the training data using CountVectorizer, which is a bag of words feature implementation. We will use the pre-processing function above in conjunction with Count Vectorizer\n",
    "3. Transform the test data into the same feature vector as the training data.\n",
    "4. Train the classifier\n",
    "5. Evaluate the classifier"
   ]
  },
  {
   "cell_type": "code",
   "execution_count": 13,
   "id": "b434c806",
   "metadata": {},
   "outputs": [
    {
     "name": "stdout",
     "output_type": "stream",
     "text": [
      "Training Data: 5993\n",
      "Testing Data: 1998\n",
      "(5993, 49753) (1998, 49753)\n",
      "Model Training time:\n",
      "CPU times: user 8.82 ms, sys: 58 µs, total: 8.88 ms\n",
      "Wall time: 8.77 ms\n"
     ]
    },
    {
     "data": {
      "image/png": "[encoded data removed]",
      "text/plain": [
       "<Figure size 432x288 with 2 Axes>"
      ]
     },
     "metadata": {
      "needs_background": "light"
     },
     "output_type": "display_data"
    },
    {
     "name": "stdout",
     "output_type": "stream",
     "text": [
      "ROC_AOC_Score:  0.7251117679464362\n",
      "Accuracy:  0.7822822822822822\n"
     ]
    }
   ],
   "source": [
    "def plot_confusion_matrix(cm, title):\n",
    "    cm = cm.astype('float') / cm.sum(axis=1)[:, np.newaxis] # normalise\n",
    "    lbl_d = {'Not Relevant':'0','Relevant':'1'}\n",
    "    sn.heatmap(cm, annot=True, fmt='.2', cmap='Blues', xticklabels=lbl_d, yticklabels=lbl_d)\n",
    "    plt.ylabel('True label',fontsize=15)\n",
    "    plt.xlabel('Predicted label',fontsize=15)\n",
    "    plt.title(title)\n",
    "    plt.show()\n",
    "\n",
    "# Step 1:\n",
    "X, y = our_data.text, our_data.relevance\n",
    "X_train, X_test, y_train, y_test = train_test_split(X, y, random_state=1)\n",
    "print(f'Training Data: {X_train.shape[0]}')\n",
    "print(f'Testing Data: {X_test.shape[0]}')\n",
    "\n",
    "# Step 2:\n",
    "vect = CountVectorizer(preprocessor=clean) \n",
    "\n",
    "# Step 3:\n",
    "X_train_dtm = vect.fit_transform(X_train)# use it to extract features from training data\n",
    "X_test_dtm = vect.transform(X_test) # transform testing data (using training data's features)\n",
    "print(X_train_dtm.shape, X_test_dtm.shape)\n",
    "\n",
    "# Step 4:\n",
    "print('Model Training time:')\n",
    "nb = MultinomialNB() # instantiate a Multinomial Naive Bayes model\n",
    "%time nb.fit(X_train_dtm, y_train) # train the model(timing it with an IPython \"magic command\")\n",
    "y_pred_class = nb.predict(X_test_dtm) # make class predictions for X_test_dtm\n",
    "y_pred_prob = nb.predict_proba(X_test_dtm)[:, 1]  # class probabilities\n",
    "\n",
    "# Step 5:\n",
    "cm = confusion_matrix(y_test, y_pred_class)\n",
    "plot_confusion_matrix(cm, 'Confusion matrix with all features')\n",
    "print(\"ROC_AUC_Score: \", roc_auc_score(y_test, y_pred_prob))\n",
    "print(\"Accuracy: \", accuracy_score(y_test, y_pred_class))"
   ]
  },
  {
   "cell_type": "markdown",
   "id": "00eb6275",
   "metadata": {},
   "source": [
    "Our large feature vector could be creating a lot of noise in the form of very rarely occurring features that are not useful for learning. Let us change the count vectorizer to take a certain number of features as maximum:"
   ]
  },
  {
   "cell_type": "code",
   "execution_count": 15,
   "id": "3bc39680",
   "metadata": {},
   "outputs": [
    {
     "name": "stdout",
     "output_type": "stream",
     "text": [
      "CPU times: user 4.71 ms, sys: 27 µs, total: 4.74 ms\n",
      "Wall time: 4.76 ms\n"
     ]
    },
    {
     "data": {
      "image/png": "[encoded data removed]",
      "text/plain": [
       "<Figure size 432x288 with 2 Axes>"
      ]
     },
     "metadata": {
      "needs_background": "light"
     },
     "output_type": "display_data"
    },
    {
     "name": "stdout",
     "output_type": "stream",
     "text": [
      "Accuracy:  0.6876876876876877\n",
      "ROC_AOC_Score:  0.7282608695652173\n"
     ]
    }
   ],
   "source": [
    "# Step 2: \n",
    "vect = CountVectorizer(preprocessor=clean, max_features=5000)\n",
    "# Step 3:\n",
    "X_train_dtm = vect.fit_transform(X_train) # combined step 2 and 3\n",
    "X_test_dtm = vect.transform(X_test)\n",
    "# Step 4:\n",
    "nb = MultinomialNB() # instantiate a Multinomial Naive Bayes model\n",
    "%time nb.fit(X_train_dtm, y_train) # train the model(timing it with an IPython \"magic command\")\n",
    "y_pred_class = nb.predict(X_test_dtm) # make class predictions for X_test_dtm\n",
    "y_pred_prob = nb.predict_proba(X_test_dtm)[:, 1]  # class probabilities\n",
    "# Step 5:\n",
    "cm = confusion_matrix(y_test, y_pred_class)\n",
    "plot_confusion_matrix(cm, 'Confusion matrix with max 5000 features')\n",
    "print(\"Accuracy: \", accuracy_score(y_test, y_pred_class))\n",
    "print(\"ROC_AUC_Score: \", roc_auc_score(y_test, y_pred_prob))"
   ]
  },
  {
   "cell_type": "markdown",
   "id": "0b8be0fa",
   "metadata": {},
   "source": [
    "The performance on relevance classification got better even though the overall accuracy fell by 10%. ROC_AUC improved!"
   ]
  },
  {
   "cell_type": "markdown",
   "id": "0b56f11a",
   "metadata": {},
   "source": [
    "### Let's try balancing the data"
   ]
  },
  {
   "cell_type": "code",
   "execution_count": 25,
   "id": "93e0267c",
   "metadata": {},
   "outputs": [
    {
     "name": "stdout",
     "output_type": "stream",
     "text": [
      "Training Data: 5993\n",
      "Testing Data: 1998\n",
      "(5993, 49753) (1998, 49753)\n",
      "[(0, 4915), (1, 4915)]\n",
      "CPU times: user 9.88 ms, sys: 167 µs, total: 10 ms\n",
      "Wall time: 9.88 ms\n"
     ]
    },
    {
     "data": {
      "image/png": "[encoded data removed]",
      "text/plain": [
       "<Figure size 432x288 with 2 Axes>"
      ]
     },
     "metadata": {
      "needs_background": "light"
     },
     "output_type": "display_data"
    },
    {
     "name": "stdout",
     "output_type": "stream",
     "text": [
      "Accuracy:  0.6856856856856857\n",
      "ROC_AUC_Score:  0.7342386007288754\n"
     ]
    }
   ],
   "source": [
    "# Step 1:\n",
    "X, y = our_data.text, our_data.relevance\n",
    "X_train, X_test, y_train, y_test = train_test_split(X, y, random_state=1)\n",
    "print(f'Training Data: {X_train.shape[0]}')\n",
    "print(f'Testing Data: {X_test.shape[0]}')\n",
    "\n",
    "# Step 2:\n",
    "vect = CountVectorizer(preprocessor=clean) \n",
    "\n",
    "# Step 3:\n",
    "X_train_dtm = vect.fit_transform(X_train)# use it to extract features from training data\n",
    "X_test_dtm = vect.transform(X_test) # transform testing data (using training data's features)\n",
    "print(X_train_dtm.shape, X_test_dtm.shape)\n",
    "\n",
    "# NEW RESAMPLE STEP\n",
    "ros = RandomOverSampler(random_state=0)\n",
    "X_resampled, y_resampled = ros.fit_resample(X_train_dtm, y_train)\n",
    "print(sorted(Counter(y_resampled).items()))\n",
    "\n",
    "# Step 4:\n",
    "nb = MultinomialNB() # instantiate a Multinomial Naive Bayes model\n",
    "%time nb.fit(X_resampled, y_resampled) # train the model(timing it with an IPython \"magic command\")\n",
    "y_pred_class = nb.predict(X_test_dtm) # make class predictions for X_test_dtm\n",
    "y_pred_prob = nb.predict_proba(X_test_dtm)[:, 1]  # class probabilities\n",
    "# Step 5:\n",
    "cm = confusion_matrix(y_test, y_pred_class)\n",
    "plot_confusion_matrix(cm, 'Confusion matrix with max 5000 features')\n",
    "print(\"Accuracy: \", accuracy_score(y_test, y_pred_class))\n",
    "print(\"ROC_AUC_Score: \", roc_auc_score(y_test, y_pred_prob))"
   ]
  },
  {
   "cell_type": "markdown",
   "id": "0f1c69fe",
   "metadata": {},
   "source": [
    "SO using the FULL dataset of 5993 examples with resampling seemed to balance the recall score, i.e. the model sensitiviy to correctly predict the relevant class as relevant and the not relevant class as not relevant. \n",
    "\n",
    "`Imbalanced learns over_sampling` algorithm uses random sampling with replacement. There are two popular methods to over-sample minority classes: (i) the Synthetic Minority Oversampling Technique (SMOTE) [CBHK02] and (ii) the Adaptive Synthetic (ADASYN) [HBGL08] sampling method. While the RandomOverSampler is over-sampling by duplicating some of the original samples of the minority class, SMOTE and ADASYN generate new samples in by interpolation.\n",
    "\n",
    "Sound interesting!"
   ]
  },
  {
   "cell_type": "code",
   "execution_count": null,
   "id": "e3baf6d2",
   "metadata": {},
   "outputs": [],
   "source": []
  }
 ],
 "metadata": {
  "kernelspec": {
   "display_name": "Python 3 (ipykernel)",
   "language": "python",
   "name": "python3"
  },
  "language_info": {
   "codemirror_mode": {
    "name": "ipython",
    "version": 3
   },
   "file_extension": ".py",
   "mimetype": "text/x-python",
   "name": "python",
   "nbconvert_exporter": "python",
   "pygments_lexer": "ipython3",
   "version": "3.9.6"
  }
 },
 "nbformat": 4,
 "nbformat_minor": 5
}
