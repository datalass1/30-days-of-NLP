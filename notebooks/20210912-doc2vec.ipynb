{
 "cells": [
  {
   "cell_type": "markdown",
   "id": "032844fa",
   "metadata": {},
   "source": [
    "Doc2vec is an NLP tool for representing documents as a vector and is a generalizing of the word2vec method.\n",
    "\n",
    "Following: https://towardsdatascience.com/multi-class-text-classification-with-doc2vec-logistic-regression-9da9947b43f4 & https://github.com/practical-nlp/practical-nlp-code/blob/master/Ch4/02_Doc2Vec_Example.ipynb"
   ]
  },
  {
   "cell_type": "code",
   "execution_count": 35,
   "id": "093521bf",
   "metadata": {},
   "outputs": [],
   "source": [
    "import os\n",
    "import re\n",
    "import pandas as pd\n",
    "import numpy as np\n",
    "import seaborn as sns\n",
    "import matplotlib.pyplot as plt\n",
    "import multiprocessing\n",
    "from tqdm import tqdm\n",
    "tqdm.pandas(desc=\"progress-bar\")\n",
    "import nltk\n",
    "from nltk.corpus import stopwords\n",
    "from string import punctuation\n",
    "from sklearn import utils\n",
    "from sklearn.model_selection import train_test_split\n",
    "from sklearn.linear_model import LogisticRegression\n",
    "from sklearn.metrics import accuracy_score, f1_score\n",
    "from gensim.models import Doc2Vec\n",
    "import gensim\n",
    "from gensim.models.doc2vec import TaggedDocument"
   ]
  },
  {
   "cell_type": "markdown",
   "id": "a8f9c2c8",
   "metadata": {},
   "source": [
    "### Get the data"
   ]
  },
  {
   "cell_type": "code",
   "execution_count": 4,
   "id": "500f930d",
   "metadata": {},
   "outputs": [],
   "source": [
    "data_fp = 'DATAPATH/complaints.csv'\n",
    "if not os.path.exists(data_fp):\n",
    "    !wget -P DATAPATH https://files.consumerfinance.gov/ccdb/complaints.csv.zip\n",
    "    !unzip DATAPATH/complaints.csv.zip"
   ]
  },
  {
   "cell_type": "markdown",
   "id": "e924d585",
   "metadata": {},
   "source": [
    "### Read the data"
   ]
  },
  {
   "cell_type": "code",
   "execution_count": 10,
   "id": "58e7ac1a",
   "metadata": {},
   "outputs": [
    {
     "data": {
      "text/html": [
       "<div>\n",
       "<style scoped>\n",
       "    .dataframe tbody tr th:only-of-type {\n",
       "        vertical-align: middle;\n",
       "    }\n",
       "\n",
       "    .dataframe tbody tr th {\n",
       "        vertical-align: top;\n",
       "    }\n",
       "\n",
       "    .dataframe thead th {\n",
       "        text-align: right;\n",
       "    }\n",
       "</style>\n",
       "<table border=\"1\" class=\"dataframe\">\n",
       "  <thead>\n",
       "    <tr style=\"text-align: right;\">\n",
       "      <th></th>\n",
       "      <th>narrative</th>\n",
       "      <th>Product</th>\n",
       "    </tr>\n",
       "  </thead>\n",
       "  <tbody>\n",
       "    <tr>\n",
       "      <th>1</th>\n",
       "      <td>I contacted Ally on Friday XX/XX/XXXX after fa...</td>\n",
       "      <td>Vehicle loan or lease</td>\n",
       "    </tr>\n",
       "    <tr>\n",
       "      <th>4</th>\n",
       "      <td>I am a victim of Identity Theft &amp; currently ha...</td>\n",
       "      <td>Credit reporting, credit repair services, or o...</td>\n",
       "    </tr>\n",
       "    <tr>\n",
       "      <th>6</th>\n",
       "      <td>Hello This complaint is against the three cred...</td>\n",
       "      <td>Credit reporting, credit repair services, or o...</td>\n",
       "    </tr>\n",
       "    <tr>\n",
       "      <th>12</th>\n",
       "      <td>Dear XXXX, US Bank uses overdrafts in every wa...</td>\n",
       "      <td>Checking or savings account</td>\n",
       "    </tr>\n",
       "    <tr>\n",
       "      <th>15</th>\n",
       "      <td>Two accounts are still on my credit history af...</td>\n",
       "      <td>Credit reporting, credit repair services, or o...</td>\n",
       "    </tr>\n",
       "  </tbody>\n",
       "</table>\n",
       "</div>"
      ],
      "text/plain": [
       "                                            narrative  \\\n",
       "1   I contacted Ally on Friday XX/XX/XXXX after fa...   \n",
       "4   I am a victim of Identity Theft & currently ha...   \n",
       "6   Hello This complaint is against the three cred...   \n",
       "12  Dear XXXX, US Bank uses overdrafts in every wa...   \n",
       "15  Two accounts are still on my credit history af...   \n",
       "\n",
       "                                              Product  \n",
       "1                               Vehicle loan or lease  \n",
       "4   Credit reporting, credit repair services, or o...  \n",
       "6   Credit reporting, credit repair services, or o...  \n",
       "12                        Checking or savings account  \n",
       "15  Credit reporting, credit repair services, or o...  "
      ]
     },
     "metadata": {},
     "output_type": "display_data"
    }
   ],
   "source": [
    "df = pd.read_csv(data_fp)\n",
    "df = df[['Consumer complaint narrative','Product']]\n",
    "df = df[pd.notnull(df['Consumer complaint narrative'])]\n",
    "df.rename(columns = {'Consumer complaint narrative':'narrative'}, inplace = True)\n",
    "display(df.head())\n",
    "# sort the indexes \n",
    "df.index = range(df.shape[0])"
   ]
  },
  {
   "cell_type": "markdown",
   "id": "a4d28bf4",
   "metadata": {},
   "source": [
    "### EDA"
   ]
  },
  {
   "cell_type": "code",
   "execution_count": 12,
   "id": "6979e811",
   "metadata": {},
   "outputs": [
    {
     "name": "stdout",
     "output_type": "stream",
     "text": [
      "Number of words in corpus: 150113752\n"
     ]
    },
    {
     "name": "stderr",
     "output_type": "stream",
     "text": [
      "/home/rachel/miniconda3/envs/nlp-genism/lib/python3.7/site-packages/seaborn/_decorators.py:43: FutureWarning: Pass the following variables as keyword args: x, y. From version 0.12, the only valid positional argument will be `data`, and passing other arguments without an explicit keyword will result in an error or misinterpretation.\n",
      "  FutureWarning\n"
     ]
    },
    {
     "data": {
      "image/png": "[encoded data removed]",
      "text/plain": [
       "<Figure size 864x288 with 1 Axes>"
      ]
     },
     "metadata": {
      "needs_background": "light"
     },
     "output_type": "display_data"
    }
   ],
   "source": [
    "print(f'Number of words in corpus: {df[\"narrative\"].apply(lambda x: len(x.split(\" \"))).sum()}')\n",
    "cnt_pro = df['Product'].value_counts()\n",
    "plt.figure(figsize=(12,4))\n",
    "sns.barplot(cnt_pro.index, cnt_pro.values, alpha=0.8)\n",
    "plt.ylabel('Number of Occurrences', fontsize=12)\n",
    "plt.xlabel('Product', fontsize=12)\n",
    "plt.xticks(rotation=90)\n",
    "plt.show();"
   ]
  },
  {
   "cell_type": "code",
   "execution_count": 17,
   "id": "545fddac",
   "metadata": {},
   "outputs": [
    {
     "name": "stdout",
     "output_type": "stream",
     "text": [
      "I contacted Ally on Friday XX/XX/XXXX after falling behind on payments due to being out of work for a short period of time due to an illness. I chated with a representative after logging into my account regarding my opitions to ensure I protect my credit and bring my account current. \n",
      "\n",
      "She advised me that before an extenstion could be done, I had to make a payment in the amount of {$270.00}. I reviewed my finances, as I am playing catch up on all my bills and made this payment on Monday XX/XX/XXXX. This rep advised me, once this payment posts to my account to contact Ally back for an extention or to have a payment deffered to the end of my loan. \n",
      "\n",
      "With this in mind, I contacted Ally again today and chatted with XXXX. I explained all of the above and the information I was provided when I chatted with the rep last week. She asked several questions and advised me that a one or two month  extension/deffered payment could be done however partial payment is needed! WHAT? She advised me {$230.00} or there abouts would be due within 10 days from me accepting the agreement and then the remaining bal of {$150.00} or there abouts would be due in XX/XX/XXXX. In XX/XX/XXXX, my payments of {$380.00} per month would resume. \n",
      "\n",
      "If this was the case, I SHOULD HAVE JUST BEEN OFFERED THIS WHEN I JUST MADE MY PAYMENT so that I could catch up on my bills. \n",
      "\n",
      "This company was working with XXXX in New Jersey which has since closed most likely due to illegal practices, they changed my loan company to this company after I had signed paperwork for another, kill you with interest rates and has NEVER once considered refiancing my vechile for a lower interest rate ( due to the age of the vechile other companies will not take it ) and THEY DO NOT WORK WITH YOU!\n",
      "Product: Vehicle loan or lease\n",
      "\n",
      "\n",
      "I believe I complained about Equifax, XXXX & XXXX but now there is more. Short overview. I sold a house XX/XX/2018. XXXX  XXXX reported it to all the credit bureaus which they deny & arent even trying to correct this & help me. Their credit reports they made about me has proof that I no longer make payments. But instead of them seeing I no longer make the automatic payments anymore they are saying I am now 3 payments delinquent on this account I no longer have. They are ruining me. All they do is lie to me & say they cant help me. I have a letter from XXXX XXXX showing a XXXX  balance. I saw a document on one of the bureaus that stated I have a XXXX balance with them but yet that same bureau shows I owe XXXX XXXX over {$58000.00}. \n",
      "I will enclose my letter from XXXX  XXXX that states I owe XXXX.\n",
      "Product: Credit reporting, credit repair services, or other personal consumer reports\n"
     ]
    }
   ],
   "source": [
    "def print_complaint(index):\n",
    "    example = df[df.index == index][['narrative', 'Product']].values[0]\n",
    "    if len(example) > 0:\n",
    "        print(example[0])\n",
    "        print('Product:', example[1])\n",
    "print_complaint(0)\n",
    "print('\\n')\n",
    "print_complaint(20)"
   ]
  },
  {
   "cell_type": "markdown",
   "id": "87f80d29",
   "metadata": {},
   "source": [
    "### Cleaning Text"
   ]
  },
  {
   "cell_type": "code",
   "execution_count": 52,
   "id": "00ba8eec",
   "metadata": {},
   "outputs": [],
   "source": [
    "def cleanText(text):\n",
    "#     text = BeautifulSoup(text, \"lxml\").text\n",
    "    text = re.sub(r'\\|\\|\\|', r' ', text) \n",
    "    text = re.sub(r'http\\S+', r'<URL>', text)\n",
    "    text = text.lower()\n",
    "    text = text.replace('x', '')\n",
    "    text = text.replace('//', '')\n",
    "    return text\n",
    "df['narrative'] = df['narrative'].apply(cleanText)"
   ]
  },
  {
   "cell_type": "markdown",
   "id": "35f5b2bd",
   "metadata": {},
   "source": [
    "### Pre-processing"
   ]
  },
  {
   "cell_type": "code",
   "execution_count": 56,
   "id": "6463a21b",
   "metadata": {},
   "outputs": [],
   "source": [
    "train, test = train_test_split(df, test_size=0.3, random_state=42)\n",
    "# train, test = train_test_split(df.sample(50, random_state=42), test_size=0.3, random_state=42) \n",
    "mystopwords = set(stopwords.words(\"english\"))\n",
    "\n",
    "def preprocess_corpus(texts):\n",
    "    def remove_stops_digits(tokens):\n",
    "        #Nested function that removes stopwords and digits from a list of tokens\n",
    "        return [token for token in tokens if token not in mystopwords and not token.isdigit() \n",
    "                and token not in punctuation]\n",
    "    #This return statement below uses the above function to process twitter tokenizer output further. \n",
    "    return [remove_stops_digits(nltk.word_tokenize(texts))]\n",
    "\n",
    "train_tagged = train.apply(\n",
    "    lambda r: TaggedDocument(words=preprocess_corpus(r['narrative']), tags=[r.Product]), axis=1)\n",
    "test_tagged = test.apply(\n",
    "    lambda r: TaggedDocument(words=preprocess_corpus(r['narrative']), tags=[r.Product]), axis=1)"
   ]
  },
  {
   "cell_type": "code",
   "execution_count": 57,
   "id": "75cf5da7",
   "metadata": {},
   "outputs": [
    {
     "data": {
      "text/plain": [
       "TaggedDocument(words=[['attn', 'collections', 'dept', 'submitting', 'complaint', 'reference', 'company', 'knowingly', 'reporting', 'inaccurate', 'data', 'credit', 'profile', 'affected', 'penalties', 'preventing', 'creditworthiness', 'due', 'companies', 'demand', 'proof', 'purchasing', 'agreement', 'valid', 'authorization/', 'proof', 'alleged', 'debt', 'reporting', 'without', 'valid', 'proper', 'disclosure', 'requirements', 'direct', 'violation', 'consumer', 'rights', 'legally', 'requested', 'description', 'details', 'verification', 'process', 'used', 'verify', 'alleged', 'account', 'federal', 'law', 'requires', 'respond', 'thirty', 'days', 'failure', 'comply', 'federal', 'regulations', 'ftc', 'u.s', 'c41', 'et', 'esq', 'maintaining', 'careful', 'record', 'communication', 'company', 'thank', 'look', 'forward', 'resolving', 'epeditiously']], tags=['Credit reporting, credit repair services, or other personal consumer reports'])"
      ]
     },
     "execution_count": 57,
     "metadata": {},
     "output_type": "execute_result"
    }
   ],
   "source": [
    "train_tagged.values[1]"
   ]
  },
  {
   "cell_type": "markdown",
   "id": "c8550c41",
   "metadata": {},
   "source": [
    "### Feature Engineering; train a Doc2Vec model\n",
    "Distributed Bag of Words (DBOW)\n",
    "\n",
    "DBOW is the doc2vec model analogous to Skip-gram model in word2vec.\n",
    "\n",
    "The paragraph vectors are obtained by training a neural network on the task of predicting a probability distribution of words in a paragraph given a randomly-sampled word from the paragraph.\n",
    "\n",
    "- `vector_size`: the dimensionality of the learned embeddings\n",
    "- `alpha` is the learning rate\n",
    "- `min_count` is the minimum frequency of words that remain in vocabulary\n",
    "- `dm` stands for distributed memory, is one of the representation learners implemented in Doc2vec (the other is dbow, or distributed bag of words)\n",
    "- `epochs` are the number of training iterations"
   ]
  },
  {
   "cell_type": "code",
   "execution_count": null,
   "id": "16ed92a0",
   "metadata": {},
   "outputs": [],
   "source": [
    "%%time\n",
    "cores = multiprocessing.cpu_count()\n",
    "\n",
    "# Building a Vocabulary\n",
    "model = Doc2Vec(vector_size=300, alpha=0.025, min_count=5, dm=1, epochs=100, workers=cores)\n",
    "model.build_vocab([x for x in tqdm(train_tagged.values)])\n",
    "model.train(train_tagged, total_examples=model.corpus_count, epochs=model.epochs)\n",
    "model.save(\"d2v.model\")\n",
    "print(\"Model Saved\")\n",
    "\n",
    "\n",
    "# model_dbow.build_vocab([x for x in tqdm(train_tagged.values)])\n",
    "\n",
    "# # train a doc2vec model\n",
    "# for epoch in range(30):\n",
    "#     model_dbow.train(utils.shuffle([x for x in tqdm(train_tagged.values)]), total_examples=len(train_tagged.values), epochs=1)\n",
    "#     model_dbow.alpha -= 0.002\n",
    "#     model_dbow.min_alpha = model_dbow.alpha\n",
    "    \n",
    "# # Building the Final Vector Feature for the Classifier\n",
    "# def vec_for_learning(model, tagged_docs):\n",
    "#     sents = tagged_docs.values\n",
    "#     targets, regressors = zip(*[(doc.tags[0], model.infer_vector(doc.words, steps=20)) for doc in sents])\n",
    "#     return targets, regressors"
   ]
  },
  {
   "cell_type": "markdown",
   "id": "36d89ee6",
   "metadata": {},
   "source": [
    "### Model training"
   ]
  },
  {
   "cell_type": "code",
   "execution_count": null,
   "id": "6dca754a",
   "metadata": {},
   "outputs": [],
   "source": [
    "y_train, X_train = vec_for_learning(model_dbow, train_tagged)\n",
    "y_test, X_test = vec_for_learning(model_dbow, test_tagged)\n",
    "logreg = LogisticRegression(n_jobs=1, C=1e5)\n",
    "logreg.fit(X_train, y_train)\n",
    "y_pred = logreg.predict(X_test)"
   ]
  },
  {
   "cell_type": "markdown",
   "id": "bf1c54c2",
   "metadata": {},
   "source": [
    "### Evaluate model"
   ]
  },
  {
   "cell_type": "code",
   "execution_count": null,
   "id": "a5cdd1f6",
   "metadata": {},
   "outputs": [],
   "source": [
    "print('Testing accuracy %s' % accuracy_score(y_test, y_pred))\n",
    "print('Testing F1 score: {}'.format(f1_score(y_test, y_pred, average='weighted')))"
   ]
  }
 ],
 "metadata": {
  "kernelspec": {
   "display_name": "Python 3 (ipykernel)",
   "language": "python",
   "name": "python3"
  },
  "language_info": {
   "codemirror_mode": {
    "name": "ipython",
    "version": 3
   },
   "file_extension": ".py",
   "mimetype": "text/x-python",
   "name": "python",
   "nbconvert_exporter": "python",
   "pygments_lexer": "ipython3",
   "version": "3.7.10"
  }
 },
 "nbformat": 4,
 "nbformat_minor": 5
}
