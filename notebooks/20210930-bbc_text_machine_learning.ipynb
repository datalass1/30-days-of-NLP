{
 "cells": [
  {
   "cell_type": "code",
   "execution_count": 1,
   "id": "45b2fd20",
   "metadata": {},
   "outputs": [],
   "source": [
    "import os\n",
    "import pandas as pd\n",
    "import numpy as np\n",
    "import ast\n",
    "from collections import Counter\n",
    "#visualisation\n",
    "import seaborn as sn\n",
    "import matplotlib as mpl \n",
    "import matplotlib.cm as cm \n",
    "import matplotlib.pyplot as plt\n",
    "# NLP\n",
    "from nltk.corpus import stopwords\n",
    "import string\n",
    "import spacy\n",
    "from sklearn.feature_extraction.text import CountVectorizer # bag of words\n",
    "# Machine Learning\n",
    "from sklearn.metrics import accuracy_score, roc_auc_score, confusion_matrix \n",
    "from sklearn.model_selection import train_test_split\n",
    "from sklearn.linear_model import LogisticRegression"
   ]
  },
  {
   "cell_type": "markdown",
   "id": "4b198830",
   "metadata": {},
   "source": [
    "### Read Data\n",
    "\n",
    "This data comes from https://www.kaggle.com/c/learn-ai-bbc/data"
   ]
  },
  {
   "cell_type": "code",
   "execution_count": 2,
   "id": "f4a7990f",
   "metadata": {},
   "outputs": [
    {
     "data": {
      "text/html": [
       "<div>\n",
       "<style scoped>\n",
       "    .dataframe tbody tr th:only-of-type {\n",
       "        vertical-align: middle;\n",
       "    }\n",
       "\n",
       "    .dataframe tbody tr th {\n",
       "        vertical-align: top;\n",
       "    }\n",
       "\n",
       "    .dataframe thead th {\n",
       "        text-align: right;\n",
       "    }\n",
       "</style>\n",
       "<table border=\"1\" class=\"dataframe\">\n",
       "  <thead>\n",
       "    <tr style=\"text-align: right;\">\n",
       "      <th></th>\n",
       "      <th>category</th>\n",
       "      <th>text</th>\n",
       "    </tr>\n",
       "  </thead>\n",
       "  <tbody>\n",
       "    <tr>\n",
       "      <th>0</th>\n",
       "      <td>tech</td>\n",
       "      <td>tv future in the hands of viewers with home th...</td>\n",
       "    </tr>\n",
       "    <tr>\n",
       "      <th>1</th>\n",
       "      <td>business</td>\n",
       "      <td>worldcom boss  left books alone  former worldc...</td>\n",
       "    </tr>\n",
       "  </tbody>\n",
       "</table>\n",
       "</div>"
      ],
      "text/plain": [
       "   category                                               text\n",
       "0      tech  tv future in the hands of viewers with home th...\n",
       "1  business  worldcom boss  left books alone  former worldc..."
      ]
     },
     "execution_count": 2,
     "metadata": {},
     "output_type": "execute_result"
    }
   ],
   "source": [
    "home_path = os.path.expanduser(\"~\")\n",
    "fp = f'{home_path}/git/30-days-of-NLP/notebooks/Data/bbc-text.csv'\n",
    "df = pd.read_csv(fp)\n",
    "df.head(2)"
   ]
  },
  {
   "cell_type": "markdown",
   "id": "62bfc004",
   "metadata": {},
   "source": [
    "### Exploratory Data Analysis"
   ]
  },
  {
   "cell_type": "code",
   "execution_count": 3,
   "id": "3f7e5673",
   "metadata": {},
   "outputs": [
    {
     "data": {
      "text/plain": [
       "sport            0.229663\n",
       "business         0.229213\n",
       "politics         0.187416\n",
       "tech             0.180225\n",
       "entertainment    0.173483\n",
       "Name: category, dtype: float64"
      ]
     },
     "metadata": {},
     "output_type": "display_data"
    },
    {
     "data": {
      "image/png": "[encoded data removed]",
      "text/plain": [
       "<Figure size 432x288 with 1 Axes>"
      ]
     },
     "metadata": {
      "needs_background": "light"
     },
     "output_type": "display_data"
    }
   ],
   "source": [
    "(f'Number of documents in dataset: {len(df)}')\n",
    "display(df[\"category\"].value_counts()/df.shape[0]) # Class distribution in the dataset\n",
    "df.groupby('category').size().sort_values().plot.bar()\n",
    "plt.title('Count of examples per category/class')\n",
    "plt.xticks(rotation=45);"
   ]
  },
  {
   "cell_type": "markdown",
   "id": "d0f9e5d8",
   "metadata": {},
   "source": [
    "Business and Sport are best represented in the dataset."
   ]
  },
  {
   "cell_type": "markdown",
   "id": "4169acb3",
   "metadata": {},
   "source": [
    "### Preprocessing\n",
    "lowercase strings, remove digits, punctuation, stopwords, and lemmatise.\n",
    "\n",
    "When saving pandas dataframes as csv the list object is stored as a string, therefore the `ast.literal_eval` function converts it back to a list. Save as pickle to keep data types."
   ]
  },
  {
   "cell_type": "code",
   "execution_count": 14,
   "id": "27174258",
   "metadata": {},
   "outputs": [],
   "source": [
    "# Install the spaCy language model\n",
    "# ! python -m spacy download en_core_web_sm"
   ]
  },
  {
   "cell_type": "markdown",
   "id": "518266e2",
   "metadata": {},
   "source": [
    "This script take ~30mins the first time."
   ]
  },
  {
   "cell_type": "code",
   "execution_count": 11,
   "id": "09ce0b1d",
   "metadata": {},
   "outputs": [
    {
     "name": "stdout",
     "output_type": "stream",
     "text": [
      "CPU times: user 931 ms, sys: 49.8 ms, total: 981 ms\n",
      "Wall time: 987 ms\n"
     ]
    }
   ],
   "source": [
    "%%time\n",
    "mystopwords = set(stopwords.words('english'))\n",
    "nlp = spacy.load('en_core_web_sm')\n",
    "def clean(doc):\n",
    "    doc = \"\".join([char for char in doc if char not in string.punctuation and not char.isdigit()]) # remove punctuation and numbers\n",
    "    doc = [token.lower() for token in doc.split() if token not in mystopwords]\n",
    "    doc = [w.lemma_ for word in doc for w in nlp(word)]\n",
    "    return doc\n",
    "\n",
    "df_preprop_fp = f'{home_path}/git/30-days-of-NLP/notebooks/Data/bbc-text-preprocessed.csv'\n",
    "if not os.path.exists(df_preprop_fp):\n",
    "    df['prepro'] = df['text'].apply(clean)\n",
    "    df.to_csv(df_preprop_fp, index=False)\n",
    "    \n",
    "else: # load preprocessed(lemmatisated) dataframe\n",
    "    df = pd.read_csv(df_preprop_fp)\n",
    "    df['prepro'] = df['prepro'].apply(ast.literal_eval) # convert str to list"
   ]
  },
  {
   "cell_type": "code",
   "execution_count": 15,
   "id": "26fc8d30",
   "metadata": {},
   "outputs": [
    {
     "data": {
      "text/html": [
       "<div>\n",
       "<style scoped>\n",
       "    .dataframe tbody tr th:only-of-type {\n",
       "        vertical-align: middle;\n",
       "    }\n",
       "\n",
       "    .dataframe tbody tr th {\n",
       "        vertical-align: top;\n",
       "    }\n",
       "\n",
       "    .dataframe thead th {\n",
       "        text-align: right;\n",
       "    }\n",
       "</style>\n",
       "<table border=\"1\" class=\"dataframe\">\n",
       "  <thead>\n",
       "    <tr style=\"text-align: right;\">\n",
       "      <th></th>\n",
       "      <th>category</th>\n",
       "      <th>text</th>\n",
       "      <th>prepro</th>\n",
       "    </tr>\n",
       "  </thead>\n",
       "  <tbody>\n",
       "    <tr>\n",
       "      <th>0</th>\n",
       "      <td>tech</td>\n",
       "      <td>tv future in the hands of viewers with home th...</td>\n",
       "      <td>[tv, future, hand, viewer, home, theatre, syst...</td>\n",
       "    </tr>\n",
       "    <tr>\n",
       "      <th>1</th>\n",
       "      <td>business</td>\n",
       "      <td>worldcom boss  left books alone  former worldc...</td>\n",
       "      <td>[worldcom, boss, leave, book, alone, former, w...</td>\n",
       "    </tr>\n",
       "  </tbody>\n",
       "</table>\n",
       "</div>"
      ],
      "text/plain": [
       "   category                                               text  \\\n",
       "0      tech  tv future in the hands of viewers with home th...   \n",
       "1  business  worldcom boss  left books alone  former worldc...   \n",
       "\n",
       "                                              prepro  \n",
       "0  [tv, future, hand, viewer, home, theatre, syst...  \n",
       "1  [worldcom, boss, leave, book, alone, former, w...  "
      ]
     },
     "metadata": {},
     "output_type": "display_data"
    }
   ],
   "source": [
    "display(df.head(2))"
   ]
  },
  {
   "cell_type": "markdown",
   "id": "62953ec9",
   "metadata": {},
   "source": [
    "### Vectorisation of dataset\n",
    "Bag of Words"
   ]
  },
  {
   "cell_type": "code",
   "execution_count": 16,
   "id": "feebeb9e",
   "metadata": {},
   "outputs": [
    {
     "name": "stdout",
     "output_type": "stream",
     "text": [
      "There are 23431 tokens in the bag of words\n"
     ]
    },
    {
     "data": {
      "text/html": [
       "<div>\n",
       "<style scoped>\n",
       "    .dataframe tbody tr th:only-of-type {\n",
       "        vertical-align: middle;\n",
       "    }\n",
       "\n",
       "    .dataframe tbody tr th {\n",
       "        vertical-align: top;\n",
       "    }\n",
       "\n",
       "    .dataframe thead th {\n",
       "        text-align: right;\n",
       "    }\n",
       "</style>\n",
       "<table border=\"1\" class=\"dataframe\">\n",
       "  <thead>\n",
       "    <tr style=\"text-align: right;\">\n",
       "      <th></th>\n",
       "      <th>aa</th>\n",
       "      <th>aaa</th>\n",
       "      <th>aaas</th>\n",
       "      <th>aac</th>\n",
       "      <th>aadc</th>\n",
       "      <th>aaliyah</th>\n",
       "      <th>aaltra</th>\n",
       "      <th>aamir</th>\n",
       "      <th>aan</th>\n",
       "      <th>aara</th>\n",
       "      <th>...</th>\n",
       "      <th>zoom</th>\n",
       "      <th>zooropa</th>\n",
       "      <th>zornotza</th>\n",
       "      <th>zorro</th>\n",
       "      <th>zubair</th>\n",
       "      <th>zuluaga</th>\n",
       "      <th>zurich</th>\n",
       "      <th>zuton</th>\n",
       "      <th>zvonareva</th>\n",
       "      <th>zvyagintsev</th>\n",
       "    </tr>\n",
       "  </thead>\n",
       "  <tbody>\n",
       "    <tr>\n",
       "      <th>0</th>\n",
       "      <td>0</td>\n",
       "      <td>0</td>\n",
       "      <td>0</td>\n",
       "      <td>0</td>\n",
       "      <td>0</td>\n",
       "      <td>0</td>\n",
       "      <td>0</td>\n",
       "      <td>0</td>\n",
       "      <td>0</td>\n",
       "      <td>0</td>\n",
       "      <td>...</td>\n",
       "      <td>0</td>\n",
       "      <td>0</td>\n",
       "      <td>0</td>\n",
       "      <td>0</td>\n",
       "      <td>0</td>\n",
       "      <td>0</td>\n",
       "      <td>0</td>\n",
       "      <td>0</td>\n",
       "      <td>0</td>\n",
       "      <td>0</td>\n",
       "    </tr>\n",
       "  </tbody>\n",
       "</table>\n",
       "<p>1 rows × 23431 columns</p>\n",
       "</div>"
      ],
      "text/plain": [
       "   aa  aaa  aaas  aac  aadc  aaliyah  aaltra  aamir  aan  aara  ...  zoom  \\\n",
       "0   0    0     0    0     0        0       0      0    0     0  ...     0   \n",
       "\n",
       "   zooropa  zornotza  zorro  zubair  zuluaga  zurich  zuton  zvonareva  \\\n",
       "0        0         0      0       0        0       0      0          0   \n",
       "\n",
       "   zvyagintsev  \n",
       "0            0  \n",
       "\n",
       "[1 rows x 23431 columns]"
      ]
     },
     "execution_count": 16,
     "metadata": {},
     "output_type": "execute_result"
    }
   ],
   "source": [
    "count_vect = CountVectorizer(binary=True)\n",
    "bow_rep = count_vect.fit_transform(df['prepro'].astype(str))\n",
    "# create dataframe\n",
    "df_bow = pd.DataFrame(bow_rep.toarray(), columns=count_vect.get_feature_names_out())\n",
    "print(f'There are {len(df_bow.columns)} tokens in the bag of words')\n",
    "df_bow.head(1)"
   ]
  },
  {
   "cell_type": "markdown",
   "id": "e18d7c15",
   "metadata": {},
   "source": [
    "Each row in the bag of words refers to a document, so the length of bag of words and the labelled data should be the same. So the 0 index in df_bow is the 0 index in the df. "
   ]
  },
  {
   "cell_type": "code",
   "execution_count": 23,
   "id": "5cce6d52",
   "metadata": {},
   "outputs": [
    {
     "data": {
      "text/plain": [
       "(2225, 2225)"
      ]
     },
     "execution_count": 23,
     "metadata": {},
     "output_type": "execute_result"
    }
   ],
   "source": [
    "len(df_bow), len(df)"
   ]
  },
  {
   "cell_type": "markdown",
   "id": "59b7639b",
   "metadata": {},
   "source": [
    "### Modelling"
   ]
  },
  {
   "cell_type": "markdown",
   "id": "a5ba10f1",
   "metadata": {},
   "source": [
    "Split the data into training and testing with sklearn\n",
    "\n",
    "`random_state` is for reproducibility"
   ]
  },
  {
   "cell_type": "code",
   "execution_count": 17,
   "id": "d21bf166",
   "metadata": {},
   "outputs": [
    {
     "name": "stdout",
     "output_type": "stream",
     "text": [
      "Training Data: 1668\n",
      "Testing Data: 557\n"
     ]
    }
   ],
   "source": [
    "data, labels = df_bow, df['category']\n",
    "X_train, X_test, y_train, y_test = train_test_split(data, labels, \n",
    "                                                    test_size=0.25, random_state=42)\n",
    "print(f'Training Data: {X_train.shape[0]}')\n",
    "print(f'Testing Data: {X_test.shape[0]}')"
   ]
  },
  {
   "cell_type": "markdown",
   "id": "451550be",
   "metadata": {},
   "source": [
    "Let's look at some of the data and labels. You will see that BoW is something like [0 0 0 ... 0 1 0]."
   ]
  },
  {
   "cell_type": "code",
   "execution_count": 18,
   "id": "df1717bd",
   "metadata": {
    "scrolled": true
   },
   "outputs": [
    {
     "name": "stdout",
     "output_type": "stream",
     "text": [
      "BoW: [0 0 0 ... 0 0 0]\n",
      "Category: business\n",
      "['account', 'also', 'average', 'bear', 'big', 'borrow', 'britannia', 'build', 'customer', 'december', 'depend', 'deposit', 'earn', 'either', 'eligibility', 'entitle', 'interest', 'introduce', 'invest', 'investment', 'large', 'last', 'least', 'less', 'make', 'member', 'mortgage', 'much', 'must', 'pay', 'payment', 'payout', 'permanent', 'pibs', 'point', 'profit', 'qualify', 'receive', 'result', 'reward', 'rule', 'scheme', 'second', 'share', 'society', 'stop', 'strict', 'two', 'uk', 'unveil', 'wednesday', 'windfall', 'worth', 'year']\n",
      "BoW: [0 0 0 ... 0 0 0]\n",
      "Category: politics\n",
      "['across', 'add', 'affect', 'allpostal', 'along', 'area', 'assembly', 'ballot', 'bar', 'bbc', 'become', 'big', 'clear', 'closely', 'code', 'commission', 'complaint', 'council', 'count', 'county', 'couple', 'darlington', 'deliver', 'delivery', 'disappear', 'due', 'durham', 'east', 'elector', 'electoral', 'ensure', 'envelope', 'fail', 'far', 'find', 'go', 'hand', 'help', 'home', 'hundred', 'initially', 'investigate', 'investigation', 'issue', 'kind', 'letter', 'line', 'mail', 'make', 'mean', 'measure', 'million', 'miss', 'mowden', 'necessary', 'news', 'noone', 'north', 'november', 'office', 'official', 'online', 'pack', 'paper', 'place', 'problem', 'property', 'put', 'race', 'receive', 'rectify', 'referendum', 'regional', 'resident', 'route', 'royal', 'satisfied', 'say', 'scan', 'see', 'send', 'several', 'situation', 'something', 'somewhere', 'special', 'spokesman', 'spokeswoman', 'take', 'tell', 'think', 'time', 'total', 'try', 'two', 'unaware', 'vote', 'voter', 'work', 'wrong']\n",
      "BoW: [0 0 0 ... 0 0 0]\n",
      "Category: tech\n",
      "['abate', 'accord', 'address', 'affair', 'also', 'annual', 'anyone', 'anything', 'association', 'auld', 'available', 'background', 'become', 'bit', 'black', 'bn', 'break', 'british', 'cab', 'call', 'case', 'chairman', 'cheer', 'club', 'comedy', 'could', 'crawl', 'customer', 'daily', 'datum', 'day', 'december', 'different', 'draw', 'drink', 'end', 'essential', 'eve', 'evening', 'ever', 'exceed', 'family', 'festivity', 'figure', 'firm', 'friend', 'give', 'go', 'good', 'goodpub', 'guide', 'happy', 'head', 'hear', 'high', 'increase', 'ingredient', 'internationally', 'january', 'joke', 'jongleur', 'lang', 'large', 'last', 'locate', 'location', 'london', 'long', 'lot', 'love', 'make', 'marketing', 'mda', 'merry', 'message', 'midnight', 'might', 'mike', 'mms', 'mobile', 'mood', 'mr', 'near', 'need', 'new', 'next', 'night', 'noisy', 'number', 'offer', 'oldfashione', 'overtake', 'party', 'phone', 'predict', 'promotion', 'pub', 'quite', 'recent', 'recommend', 'record', 'represent', 'restaurant', 'say', 'season', 'see', 'send', 'service', 'set', 'short', 'show', 'sign', 'simply', 'slow', 'speak', 'special', 'stand', 'staple', 'still', 'syne', 'take', 'taxi', 'tell', 'text', 'texte', 'think', 'time', 'total', 'traditional', 'turn', 'uk', 'unable', 'unfeasible', 'use', 'useful', 'user', 'value', 'via', 'want', 'way', 'winter', 'wish', 'word', 'year', 'zone']\n"
     ]
    }
   ],
   "source": [
    "idxs = [1, 10, -1]\n",
    "for i in idxs:\n",
    "    print(f'BoW: {X_train.iloc[i].values}\\nCategory: {y_train.iloc[i]}')\n",
    "    print((X_train.iloc[i][X_train.iloc[i] == 1]).index.tolist())"
   ]
  },
  {
   "cell_type": "markdown",
   "id": "3871d1b9",
   "metadata": {},
   "source": [
    "We can see in the business example words such as pay, customer, share, profit. In the politics example words such as electoral, referendum, ballot. And in the tech example words such as text, service, phone, user, record (referring to a record number of text messages at new year!)."
   ]
  },
  {
   "cell_type": "code",
   "execution_count": 19,
   "id": "e0da9375",
   "metadata": {},
   "outputs": [
    {
     "name": "stdout",
     "output_type": "stream",
     "text": [
      "Model Training time:\n",
      "CPU times: user 48.7 s, sys: 18.4 s, total: 1min 7s\n",
      "Wall time: 9.69 s\n",
      "1.0\n"
     ]
    }
   ],
   "source": [
    "print('Model Training time:')\n",
    "log_reg = LogisticRegression() # instantiate a logistic regression model\n",
    "%time log_reg.fit(X_train, y_train) # train the model(timing it with an IPython \"magic command\")\n",
    "y_pred_training_data = log_reg.predict(X_train) # make class predictions for X_train\n",
    "print(accuracy_score(y_true=y_train, y_pred=y_pred_training_data))"
   ]
  },
  {
   "cell_type": "markdown",
   "id": "c59e37c3",
   "metadata": {},
   "source": [
    "100% accuracy on the training data set. The model has fit perfectly to the training data. \n",
    "\n",
    "Has it overfit to the data? To make sure we use the model to predict on the test dataset. "
   ]
  },
  {
   "cell_type": "markdown",
   "id": "ad57410b",
   "metadata": {},
   "source": [
    "### Accuracy Assessment"
   ]
  },
  {
   "cell_type": "code",
   "execution_count": 25,
   "id": "d5bbfaf0",
   "metadata": {},
   "outputs": [
    {
     "data": {
      "image/png": "[encoded data removed]",
      "text/plain": [
       "<Figure size 432x288 with 2 Axes>"
      ]
     },
     "metadata": {
      "needs_background": "light"
     },
     "output_type": "display_data"
    },
    {
     "name": "stdout",
     "output_type": "stream",
     "text": [
      "Accuracy:  0.9551166965888689\n"
     ]
    }
   ],
   "source": [
    "def plot_confusion_matrix(cm, classes, title):\n",
    "    cm = cm.astype('float') / cm.sum(axis=1)[:, np.newaxis] # normalise\n",
    "    sn.heatmap(cm, annot=True, fmt='.2', cmap='Blues', xticklabels=classes, yticklabels=classes)\n",
    "    plt.ylabel('True label',fontsize=15)\n",
    "    plt.xlabel('Predicted label',fontsize=15)\n",
    "    plt.title(title)\n",
    "    plt.show()\n",
    "\n",
    "y_pred = log_reg.predict(X_test) # make class predictions for X_test\n",
    "classes = log_reg.classes_\n",
    "cm = confusion_matrix(y_true=y_test, y_pred=y_pred)\n",
    "plot_confusion_matrix(cm, classes, 'Confusion matrix with all features')\n",
    "print(\"Accuracy: \", accuracy_score(y_true=y_test, y_pred=y_pred))"
   ]
  },
  {
   "cell_type": "markdown",
   "id": "949753c2",
   "metadata": {},
   "source": [
    "The test data is unseen and therefore provides the final quality assurance for our model. \n",
    "\n",
    "That way we can run this model on future news data (that has no labels) and know that it will have an accuracy of around 95%. \n",
    "\n",
    "The model mostly was confused by business and entertainment and tech with entertainment. Tech and entertainment are the least represented classes in the dataset."
   ]
  },
  {
   "cell_type": "markdown",
   "id": "11c27e35",
   "metadata": {},
   "source": [
    "#### Which ones did it get wrong?"
   ]
  },
  {
   "cell_type": "code",
   "execution_count": 53,
   "id": "9ba050f0",
   "metadata": {},
   "outputs": [
    {
     "name": "stdout",
     "output_type": "stream",
     "text": [
      "\n",
      "Predicted category: tech\n",
      "\n",
      "True category: business\n",
      "\n",
      "Data: id theft surge hits us consumers almost a quarter of a million us consumers complained of being targeted for identity theft in 2004  official figures suggest.  the federal trade commission said two in five of the 635 173 reports it had from consumers concerned id fraud. id theft occurs when criminals use someone else s personal information to steal credit or commit other crimes. internet auctions were the second biggest source of fraud complaints  comprising 16% of the total. the total cost of fraud reported by consumers was $546m (£290m).  the report marks the fifth year in a row in which identity fraud has topped the table. the biggest slice of the 246 570 id fraud cases reported - almost 30% - concerned abuses of people s credit. misusing someone s identity to claim new credit cards or loans comprised 16.5% of the total  with almost 12% coming from false claims on existing credit. another 18% came from attempts to rip off people s bank accounts  while 13% of cases concerned attempts to defraud employers by abusing someone else s identity. outside the field of id theft  53% of the near-400 000 complaints were internet-related. among the 100 000 internet auction complaints  the failure of sellers to deliver or the supply of sub-standard goods were the most common woes reported. catalogue and home-shopping frauds were next in line  accounting for 8% of total complaints  while concerns about internet services and computers - including spyware found on people s pcs and undisclosed charges for websites - amounted to 6% of complaints.\n",
      "############################################################\n",
      "\n",
      "Predicted category: business\n",
      "\n",
      "True category: politics\n",
      "\n",
      "Data: report attacks defence spending the ministry of defence has been criticised over the soaring spending costs and growing delays of its top equipment projects.  a national audit office report on the 20 biggest projects says costs have risen by £1.7bn in the past year. it says there is  little evidence  the mod s performance had improved  despite the introduction of a  smart acquisition  policy six years ago. a senior defence official told the bbc lessons were being learned. the nao s annual report showed the total cost of the 20 projects covered was expected to reach £50bn - 14% higher than originally planned. the total delays amounted to 62 months  with average individual delays rising by three months.  sir john bourn  head of the nao  said the problems showed the principles of the scheme known as smart acquisition had not been consistently applied.  many problems can be traced to the fact that the mod has not spent enough time and resources in the assessment phase   the report says. the nao found that projects launched since the start of the scheme were showing the same worrying tendencies as the older  legacy projects   such as the eurofighter. a senior defence official  speaking to the bbc s defence correspondent paul adams  said that although the figures were still not good enough  the report reflected unrealistic expectations early on in the project cycle. this year s overspend was significantly less than last year s £3.1bn total  and the defence procurement agency - which is responsible for buying defence equipment - was improving.  lord bach  minister for defence procurement  said he was  obviously still disappointed with the cost and time increases shown   but insisted that the defence procurement agency had  undertaken a huge amount of work to expose any underlying problems on projects . the latest findings follow a string of critical reports issued within the last 12 months  and  according to our correspondent  contain few new surprises. turning around the defence procurement agency  was a little like trying to turn around a super tanker - it takes a very long time indeed   he said. our correspondent said it was the same projects  including the joint strike fighter  the nimrod and a400m aircraft and the type 45 destroyer  which were resonsible for the bulk of the cost over-runs and delay. but he added some projects  such as the c-17 heavy lift aircraft and successor identification friend or foe (siff)  were showing good performances.\n",
      "############################################################\n",
      "\n",
      "Predicted category: tech\n",
      "\n",
      "True category: entertainment\n",
      "\n",
      "Data: fears raised over ballet future fewer children in the uk are following in the dainty footsteps of dancers like darcey bussell  and carving out potential careers as ballet dancers.  new research from the royal academy of dance (rad) has found fewer children over the age of 10 are attending ballet classes and taking exams in the discipline. the organisation blames the growing popularity of computer games and other changes in lifestyle. and there are fears that if the trend is not reversed  there could be fewer british ballet stars in the future. the rad found that the number of youngsters taking their ballet exams drops by almost 70% after the age of 10 or 11. dance teacher eve trew  who has taught ballet for over 48 years  told bbc news she had seen a  vast  change over the years. she blamed modern lifestyles for the fall in ballet attendance.  i think the children of many years ago did not have as many hobbies   she said.  the trouble now is that they are wide open to computers  gameboys and everything else children have got.  as a result  there is less time being spent on ballet lessons.   hazel gilbert  23  an information manager from newcastle  gave up ballet at the age of 10 and is typical of the problem.  it s not a very cool thing to do when you go to  big  school and i think you have to be very focused on ballet to want to carry on doing it   she said.  i used to love it  but after a certain age it becomes much more disciplined and i didn t want that.  i started getting into other things  like swimming and kickboxing  and ballet just wasn t something i wanted to do any more.  ms trew  who runs a dance school in gateshead  admitted it would be  very difficult  to reverse the trend and said many young ballet dancers were no longer willing to make the sacrifices to succeed.  you have to be very dedicated and you have to be very disciplined.  it is a career that you have got to really want to do because it is such hard work.  children these days have not got the time to spend perfecting it... that is very sad.   currently  only two out of 16 principal dancers at the royal ballet - darcey bussell and jonathan cope - are british  compared to 16 of the 21 principals in 1985. but a spokesman for the english national ballet told bbc news that although only two out of their 12 principal dancers were british  around a quarter of the company s dancers were from the uk. he said competition at open auditions in london was  fierce  between talented dancers from all over the world. the rad have launched a new competition to try and reverse the decline in british ballet. dame antoinette sibley  president of the rad  launched the fonteyn nureyev young dancers competition earlier this week.  aimed at children aged 10 to 13  it is hoped the contest will help keep british ballet evolving. a spokeswoman for the rad said:  it is our responsibility to re-ignite the passion and nurture young dancers for the long-term future of ballet.  we need to provide them with a framework and a goal to work towards  with constant support and coaching in an environment where they can work with their peers and possibly leading artists and choreographers.  perhaps more importantly provide them with the opportunity to experience  performance  themselves.  what better way to reignite a passion for ballet than to let them experience the thrill of performance\n",
      "############################################################\n",
      "\n",
      "Predicted category: business\n",
      "\n",
      "True category: tech\n",
      "\n",
      "Data: pc ownership to  double by 2010  the number of personal computers worldwide is expected to double by 2010 to 1.3 billion machines  according to a report by analysts forrester research.  the growth will be driven by emerging markets such as china  russia and india  the report predicted. more than a third of all new pcs will be in these markets  with china adding 178 million new pcs by 2010  it said. low-priced computers made by local companies are expected to dominate in such territories  forrester said. the report comes less than a week after ibm  a pioneer of the pc business  sold its pc hardware division to china s number one computer maker lenovo.  the $1.75bn (£900m) deal will make the combined operation the third biggest pc vendor in the world.  today s products from western pc vendors won t dominate in those markets in the long term   simon yates  a senior analyst for forrester  said.  instead local pc makers like lenovo group in china and aquarius in russia that can better tailor the pc form factor  price point and applications to their local markets will ultimately win the market share battle   he said. there are currently 575 million pcs in use globally. the united states  europe and asia-pacific are expected to add 150 million new pcs by 2010  according to the study. the report forecast that there will be 80 million new pc users in india by 2010 and 40 million new users in indonesia.\n",
      "############################################################\n",
      "\n",
      "Predicted category: business\n",
      "\n",
      "True category: tech\n",
      "\n",
      "Data: us woman sues over cartridges a us woman is suing hewlett packard (hp)  saying its printer ink cartridges are secretly programmed to expire on a certain date.  the unnamed woman from georgia says that a chip inside the cartridge tells the printer that it needs re-filling even when it does not. the lawsuit seeks to represent anyone in the us who has purchased an hp inkjet printer since february 2001. hp  the world s biggest printer firm  declined to comment on the lawsuit. hp ink cartridges use a chip technology to sense when they are low on ink and advise the user to make a change.  but the suit claims the chips also shut down the cartridges at a predetermined date regardless of whether they are empty.  the smart chip is dually engineered to prematurely register ink depletion and to render a cartridge unusable through the use of a built-in expiration date that is not revealed to the consumer   the suit said. the lawsuit is asking for restitution  damages and other compensation. the cost of printer cartridges has been a contentious issue in europe for the last 18 months. the price of inkjet printers has come down to as little as £34 but it could cost up to £1 700 in running costs over an 18-month period due to cartridge  a study by computeractive magazine revealed last year. the inkjet printer market has been the subject of an investigation by the uk s office of fair trading (oft)  which concluded in a 2002 report that retailers and manufacturers needed to make pricing more transparent for consumers.\n",
      "############################################################\n",
      "\n",
      "Predicted category: sport\n",
      "\n",
      "True category: tech\n",
      "\n",
      "Data: football manager scores big time for the past decade or so the virtual football fans among us will have become used to the annual helping of championship manager (cm). indeed  it seems like there has been a cm game for as many years as there have been pcs.  however  last year was the final time that developers sports interactive (si) and publishers eidos would work together. they decided to go their separate ways  and each kept a piece of the franchise. si kept the game s code and database  and eidos retained rights to the cm brand  and the look and feel of the game. so at the beginning of this year  fans faced a new situation. eidos announced the next cm game  with a new team to develop it from scratch  whilst si developed the existing code further to be released  with new publishers sega  under the name football manager. so what does this mean  well  football manager is the spiritual successor to the cm series  and it has been released earlier than expected. at this point cm5 looks like it will ship early next year. but given that football manager 2005 is by and large the game that everybody knows and loves  how does this new version shape up   a game like fm2005 could blind you with statistics. it has an obscene number of playable leagues  an obscene number of manageable teams and a really obscene number of players and staff from around the world in the database  with stats faithfully researched and compiled by a loyal army of fans. but that does not do justice to the game really. what we are talking about is the most realistic and satisfying football management game to ever grace the earth.  you begin by picking the nations and leagues you want to manage teams from  for instance england and scotland. that will give you a choice not just of the four main scottish leagues  but the english premiership all the way down to the conference north and south. of course you might be looking for european glory  or to get hold of abramovich s millions  in which case you can take control at chelsea  or even barcelona  real madrid  ac milan ... the list goes on a very long way. once in a team you will be told by the board what they expect of you. sometimes it is promotion  or a place in europe  sometimes it is consolidation or a brave relegation battle. it might even be a case of champions or else. obviously the expectations are linked to the team you choose  so choose wisely. then it is time to look at your squad  work out your tactics  seeing how much cash  if any  you have got to splash  having a look at the transfer market  sorting out the training schedule and making sure your backroom staff are up to it. then bring on the matches  which are once more available in the ever-improving top down 2d view. with the exception of the improved user interface on the surface  not much else seems to have changed.  however  there have been a lot of changes under the bonnet as well - things like the manager mind-games  which let you talk to the media about the opposition bosses. the match engine is also much improved  and it is more of a joy than ever to watch. in fact just about every area of the game has been tweaked  and it leads to an ever more immersive experience.  with a game that is so complex and so open-ended  there are of course a few glitches  but nowhere near the sorts of problems that have blighted previous releases. with so many calculations to perform the game can take some time to process in between matches  though there have been improvements in this area. and a sport like football  which is so high profile and unpredictable itself  can never be modelled quite to everybody s satisfaction. but this time around a great deal of hard work has been put in to ensure that any oddities that do crop up are cosmetic only  and do not affect gameplay. and if there are problems further down the line  sports interactive have indicated their usual willingness to support and develop the game as far as possible. in all there are many more tweaks and improvements. if you were a fan of the previous cm games  then fm2005 might make you forget there was anything else before it. if you are new to the genre but like the idea of trying to take margate into the premiership  spurs into europe  or even putting rangers back on the top of the tree  fm2005 could be the best purchase you ever made. just be warned that the family might not see you much at christmas.  football manager 2005 out now for the pc and the mac\n",
      "############################################################\n",
      "\n",
      "Predicted category: politics\n",
      "\n",
      "True category: business\n",
      "\n",
      "Data: ban on forced retirement under 65 employers will no longer be able to force workers to retire before 65  unless they can justify it.  the government has announced that firms will be barred from 2006 from imposing arbitrary retirement ages. under new european age discrimination rules  a default retirement age of 65 will be introduced. workers will be permitted to request staying on beyond this compulsory retirement age  although employers will have the right to refuse. trade and industry secretary patricia hewitt said people would not be forced to work longer than they wanted  saying the default age was not a statutory  compulsory retirement age. she said employers would be free to continue employing people for as long as they were competent.  under age discrimination proposals from the department of trade and industry last year workers were to be allowed to work on till 70 if they wished.  business leaders had opposed the plan as they said it would be too costly and cumbersome. the british chambers of commerce welcomed the latest proposal.  this move today is the best of both worlds   it said.  employers have the ability to define the end point of the employer-employee relationship and employees have flexibility with a right to request to work past the age of 65.  but age concern said imposing a retirement age of 65 was  cowardly  and a  complete u-turn .  this makes a mockery of the government s so-called commitment to outlawing ageism  leaving the incoming age discrimination law to unravel   said gordon lishman  director general of age concern england .  it is now inevitable that older people will mount legal challenges to the decision using european law.  the decision will have no impact on the age at which workers can collect their state pension  the government has said.\n",
      "############################################################\n",
      "\n",
      "Predicted category: tech\n",
      "\n",
      "True category: business\n",
      "\n",
      "Data: us bank  loses  customer details the bank of america has revealed it has lost computer tapes containing account details of more than one million customers who are us federal employees.  several members of the us senate are among those affected  who could now be vulnerable to identity theft. senate sources say the missing tapes may have been stolen from a plane by baggage handlers. the bank gave no details of how the records disappeared  but said they had probably not been misused. customers  accounts were being monitoring and account holders would be notified if any  unusual activity  was detected  bank officials said.  bank of america said the tapes went missing in december while being shipped to a back-up data centre.  we  with federal law authorities  have done a very robust  thorough investigation on this and neither we nor they would make the statement lightly that we believe those tapes to be lost   alexandra tower  a spokeswoman for the north carolina-based bank  told time magazine. but although there was no evidence of criminal activity  the bank said  the secret service - a federal agency whose brief includes investigations of serious financial crime - is said to be looking into the loss. new york senator charles schumer said he was told by the senate rules committee that the tapes were probably stolen from a commercial plane.  whether it is identity theft  terrorism  or other theft  in this new complicated world baggage handlers should have background checks and more care should be taken for who is hired for these increasingly sensitive positions   the democrat senator said. details of his vermont colleague pat leahy s credit card account are among those missing  senator leahy s spokeswoman tracy schmaler said. about 900 000 military and civilian staff at the defence department are among the 1.2 million affected  according to a pentagon spokesman.\n",
      "############################################################\n",
      "\n",
      "Predicted category: politics\n",
      "\n",
      "True category: business\n",
      "\n",
      "Data: call to overhaul uk state pension the uk pension system has been branded inadequate and too complex by a leading retirement think-tank.  the pensions policy institute (ppi) said replacing the state pension with a  citizen s pension  would help tackle inequality and complexity. the change would see pensions being calculated on length of residency in the uk rather than national insurance (ni) contributions. reform could reduce poverty by aiding people with broken employment records.  the ppi added that once the state system was reformed the government should look at options to overhaul private and workplace pensions. the think tank s proposals were made in response to the recent publication of the pensions commission s initial report into uk retirement savings. according to the pensions commission s report 12 million working people are not saving enough for their retirement. as a result  living standards could fall for the next generation of uk pensioners. the report added that a combination of higher taxes  higher savings and/or a higher average retirement age was needed to solve the uk pension crisis.\n",
      "############################################################\n",
      "\n",
      "Predicted category: politics\n",
      "\n",
      "True category: business\n",
      "\n",
      "Data: golden rule  intact  says ex-aide chancellor gordon brown will meet his golden economic rule  with a margin to spare   according to his former chief economic adviser.  formerly one of mr brown s closest treasury aides  ed balls hinted at a budget giveaway on 16 march. he said he hoped more would be done to build on current tax credit rules. any rate rise ahead of an expected may election would not affect the labour party s chances of winning  he added. last july  mr balls won the right to step down from his treasury position and run for parliament  defending the labour stronghold of normanton in west yorkshire.  mr balls rejected the allegation that mr brown had been sidelined in the election campaign  saying he was playing a  different  role to the one he played in the last two elections. he rejected speculation that mr brown was considering becoming foreign secretary  saying his recent travels had been linked to efforts to boost international development. gordon brown s decision to announce the date of the budget while on a trip to china was a  sensible thing to do   since he was talking about skills and investment at the time  mr balls told the bbc. commenting on speculation of an interest rate rise  he said it was not within the remit of the bank of england s monetary policy committee (mpc) to factor a potential election into its rate decisions. expectations of a rate rise have gathered pace after figures showed that house prices are still rising. consumer borrowing rose at a near-record pace in january.  i don t believe it would be a big election issue in britain or a problem for labour   mr balls said. prime minister tony blair has yet to name the date of the election  but most pundits are betting on 5 may as the likely day.\n",
      "############################################################\n",
      "\n",
      "Predicted category: business\n",
      "\n",
      "True category: entertainment\n",
      "\n",
      "Data: uk  world s biggest music buyer  uk consumers are the biggest music buyers in the world  according to new figures released on tuesday by the british phonographic industry (bpi).  but global sales of recorded music were flat in 2004  with growing sales in dvd music videos offset by online and physical piracy in major markets. the uk music industry recorded an overall 3% increase in volume sales  mostly due to its robust albums market. however  world music sales declined by 1.3% to $33.6 billion (£17.7 billion). the uk cd albums market grew by 4.5% in 2004 with a record 174.6 million units sold. on average every briton buys 3.2 cds per person per year.  around 26 000 albums are released in the uk each year  making britain second only to the us in terms of the number of releases. overall sales were driven by new uk-signed artists such as keane  katie melua and scissor sisters  whose debut album sold almost 1.6 million copies in the uk.  a slew of great new british artists have met uk music fans  demand for great music   said bpi chairman peter jameson. the best-selling album globally was usher s confessions - one of eight albums to sell more than five million copies in 2004.  the growth in the dvd market and a sharp increase in sales of digital music ensured a strong market in the us. the total number of tracks downloaded last year were up more than tenfold on 2003. digital sales in the us in the first two months of 2005 are already more than double that of the same period in 2004.  however  some markets in continental europe and asia - notably sweden  finland  france  spain and south korea - have been drastically hit by internet piracy. australia  italy and the netherlands also saw a decline.  on the positive side digital sales are booming   said john kennedy  chief executive of the international federation of phonographic industries (ifpi).  however  commercial piracy and illegal file-sharing are continuing to depress our markets.  the priority in the coming year is to step up the advance of legitimate digital sales and sustain our anti-piracy efforts.   the main choice today s music fan now has to make is whether to get music legally or illegally   added mr jameson.\n",
      "############################################################\n",
      "\n",
      "Predicted category: business\n",
      "\n",
      "True category: entertainment\n",
      "\n",
      "Data: german music in a  zombie  state the german music business - the third largest in the world - is  in the state of a zombie  because it has failed to respond to the challenge posed by downloading and piracy  a leading industry figure has said.  tim renner  the head of universal music germany until last year  told bbc world service s the music biz programme that the country s music industry was now struggling to survive. renner warned that unless the industry accepted  new realties  - such as downloading - its decline could become irreversible.  the problem the music industry has got is that they aren t willing to accept that the classic way of doing business is over and out   he stated.  so the music industry in its current form over here is pretty much in the state of a zombie.   the music market in germany peaked in 1997  with sales of 2.6bn euros (£1.8bn). since 2000  sales have plummeted to just 1.6bn euros (£1.1bn) in 2003. in the space of one year - between 2002 and 2003 - cd album sales fell by 13.8%. but a study by the society for consumer research found that at the same time  more than twice as many recordable cds had music recorded on them than cd albums were sold. mr renner pointed out that  because profit comes mainly from the longevity of a good-selling record  this was particularly damaging.   you need time   he added. however  peter zombic  the managing director of the international federation of phonographic industry in germany  said he did not feel the situation was as  dramatic  as mr renner believed.  it s quite true that we have severe problems in germany - but that s true in other parts of the world and in most developed markets too   he argued.  we have a severe problem with piracy  especially internet piracy  and we also have a severe problem of private copying.  i don t agree that the music industry lost control over the music market - in fact  especially in regard to germany talent  the market is quite successful.  he did  however  admit that copyright owners have  partly lost control of their copyright   due to piracy and copying.  but he refuted suggestions that the industry had been too slow to respond to digital downloading.  we were the first to implement a download service - back in 1997   he argued.  at that time it was not successful  because of the advent of piracy - it was the napster time  when p2p services became popular.  it still is quite difficult for the music industry to compete with a price that is zero as far as the illegal product is concerned.  mr zombic also called for a change to the perception in germany that private copying of music is not a problem. german law does allow people to make copies of cds for their family and close friends  without fear of breaking copyright. mr zombic said that this legal framework was a  huge problem .  there is a widespread attitude that private copying is a hobby  it s nice  it s fun   he added.  we try to make clear it s not nice and it s not fun - it s endangering the creativity in our country.\n",
      "############################################################\n",
      "\n",
      "Predicted category: politics\n",
      "\n",
      "True category: sport\n",
      "\n",
      "Data: campbell to be lions consultant former government communications chief alastair campbell will act as a media consultant to sir clive woodward s 2005 lions on their tour to new zealand.  campbell  who left downing street earlier this year  will advise on media strategy before and during the tour.  i hope i can contribute to the planning and preparation  and to ensuring the media and public get the most out of the tour itself   he said.  i am also looking forward to going out for the later stages of the tour.  woodward s decision to call in prime minister tony blair s former spin doctor springs from the deterioration in media relations on the last lions tour of australia in 2001  when new zealander graham henry was the head coach. the furore surrounding the newspaper diaries of matt dawson and austin healey was compounded by other disillusioned players venting their frustration through the media.  the lions is a massive media event   said woodward  who will be the head coach.  there will be a huge level of interest from the travelling media  the fans that will go out in their thousands and the new zealand public.  we need to have the strategy and processes in place to deal with the pressures that will bring.  [alastair] will act as an advisor both in the build up to and on the tour itself. his role is to work closely with not only myself but (tour manager) bill beaumont  (media manager) louisa cheetham and (team manager) louise ramsay.  campbell is due to resume working for the government in the new year in the build-up to an anticipated may general election. the lions leave for new zealand on 24 may  with the first test match against the all blacks in christchurch on 25 june.\n",
      "############################################################\n",
      "\n",
      "Predicted category: tech\n",
      "\n",
      "True category: entertainment\n",
      "\n",
      "Data: tv show unites angolan families angolan families who are attempting to track each other down  after being separated by nearly 30 years of war  are succeeding thanks to a hugely popular tv show.  meeting point has become one of tv angola s most watched programmes  and has reunited hundreds of families. it runs daily  not only on the television but also on the radio. every friday  hundreds of people gather in luanda s independence square to record a message in front of the tv cameras  in the hope that a lost relative will see it. many relatives have been reunited on air.  at the beginning there was an absolute explosion - huge  huge crowds   sergio gera  the programme s chief co-ordinator  told bbc world service s assignment programme.  now things are a little calmer  there are slightly less people - but  after two and a half years of broadcasting  there are still a lot of people going.   the media in the southern african country  twice the size of france  has been gripped by the quest of so many people to find their relatives. hundreds of thousands of people died in angola s 30-year civil war  which finally ended in 2002  and tens of thousands of people are still missing. many have not heard anything for 10 or more years - in all  90% of angolan families have lost someone.  the idea of recording in independence square was modelled on a square in the argentine capital buenos aries  where mothers go to talk about the dead and the missing  and to exchange news. one woman  victoria lapete  found her sister - the only remaining member of her family - in independence square live on meeting point. she had not seen her sibling for 28 years.  when we saw each other  we threw ourselves into each other s arms   she told assignment.  we started to cry. i felt very  very happy  because i d spent so long without any family. suddenly i had a sister again.  however  angola is one of the poorest countries in africa  and the number of people with access to either a television or radio is comparatively few. this means that elsewhere in the country  the task of reuniting families lies primarily with the international committee of the red cross (icrc). in the city of wambo  the icrc runs the gazetta - a 200-page  tabloid-size book which contains 13 000 names of missing or displaced.  their task is made much harder by the huge number of landmines dotted around the country.  it s very difficult - there are many displaced   stated joaquim sahundi  head of tracing in wambo.   as they try to go back [home]  others are trying to relocate their relatives. many people are getting injured because of that - in the villages  in the bush  there has been no clearance of mines.  when people are crossing these areas  they step on mines.  the icrc also uses the media where it can  running four daily broadcasts of their lists of the missing on radio angola. meanwhile  there remain massive challenges to angolan families even once they are reunited.  the programme of family reunification is extremely important  but for these families to remain reunified  there has to be social integration  job access  education  healthcare   said rafael marques of the pro-democracy george soros foundation for southern africa.  essentially the government is waiting for the international community to pay for the reconstruction - that s why it has been persistently calling for a donor s conference. that is just a way of detaching itself from its political responsibilities.\n",
      "############################################################\n",
      "\n",
      "Predicted category: entertainment\n",
      "\n",
      "True category: business\n",
      "\n",
      "Data: christmas shoppers flock to tills shops all over the uk reported strong sales on the last saturday before christmas with some claiming record-breaking numbers of festive shoppers.  a spokesman for manchester s trafford centre said it was  the biggest christmas to date  with sales up 5%. and the regent street association said shops in central london were also expecting the  best christmas ever . that picture comes despite reports of disappointing festive sales in the last couple of weeks.  the trafford centre spokeswoman said about 8 500 thousand vehicles had arrived at the centre on saturday before 1130 gmt.  we predict that the next week will continue the same trend   she added.  it was a similar story at bluewater in kent. spokesman alan jones said he expected 150 000 shoppers to have visited by the end of saturday and a further 100 000 on sunday.  our sales so far have been 2% up on the same time last year   he said.  we re very busy  it s really strong and people will be shopping right up until christmas.  over the christmas period we re expecting people to spend in excess of £200m at the centre.   on saturday afternoon  a spokeswoman for the st david s shopping centre in cardiff said it looked like being its busiest day of the year with about 200 000 shoppers expected to have visited by the close of play. at the st enoch s shopping centre in glasgow  more than 140 000 shoppers - an all-time record - were expected to have passed through the doors by its closing time of 1900 gmt. senior business manager jon walton said:  it has been phenomenal - absolutely mobbed.  every week footfall has been showing strong growth and at the weekends it has been going mad.  regent street association director annie walker said on saturday:  the stores were heaving today and a lot of people are going to be doing last minute shopping as many people finished work on friday and can go in the week.   she said reports of a slump in pre-christmas sales were related to the growing popularity of internet sales.  i do think this has had a lot to do with reports of lower sales figures   she said.  internet shopping has gone up enormously and not all stores have websites.\n",
      "############################################################\n",
      "\n",
      "Predicted category: politics\n",
      "\n",
      "True category: business\n",
      "\n",
      "Data: saudi ministry to employ women women will be employed in saudi arabia s foreign ministry for the first time this year  foreign minister prince saud al-faisal has been reported as saying.  the move comes as the conservative country inches open the door to working women. last year  crown prince abdullah  the de-facto ruler  told government departments to put plans in place for employing women. but progress has been slow  reports from the country say.  earlier this week  the local arab news said labour minister ghazi al-gosaibi had  caused uproar  when he said his ministry was having difficulty hiring women because they demanded segregated offices. the newspaper said many saudi women found his explanation  a pitiful excuse for not employing women . women now make up more than half of all graduates from saudi universities but only 5% of the workforce.  our educational reforms have created a new generation of highly-educated and professionally trained saudi women who are acquiring their rightful position in saudi society   arab news quoted prince saud as saying.  i am proud to mention here that this year we shall have women working in the ministry of foreign affairs for the first time.\n",
      "############################################################\n",
      "\n",
      "Predicted category: tech\n",
      "\n",
      "True category: business\n",
      "\n",
      "Data: cash gives way to flexible friend spending on credit and debit cards has overtaken cash spending in the uk for the first time.  the moment that plastic finally toppled cash happened at 10.38am on wednesday  according to the association for payment clearing services (apacs) apacs chose school teacher helen carroll  from portsmouth  to make the historic transaction. the switch over took place as she paid for her groceries in the supermarket chain tesco s cromwell road branch.  mrs carroll was born in the same year that plastic cards first appeared in the uk.  i pay for most things with my debit card  with occasional purchases on one of my credit cards   said mrs carroll  who teaches at peel common infants school in gosport.  spending patterns for the year and estimates for december led apacs to conclude that 10.38am was the time that plastic would finally rule the roost. shoppers in the uk are expected to put £269bn on plastic cards during the whole of 2004  compared with £268bn paid with cash  apacs said. when the first plastic cards appeared in the uk in june 1966  issued by barclaycard  but only a handful of retailers accepted them and very few customers held them.  but in less than 40 years  plastic has become our most popular way to pay  due to the added security and flexibility it offers   said apacs spokeswoman jemma smith.  the key driver has been the introduction of debit cards  which now account for two-thirds of plastic card transactions and are used by millions of us every day.\n",
      "############################################################\n",
      "\n",
      "Predicted category: business\n",
      "\n",
      "True category: entertainment\n",
      "\n",
      "Data: uk s national gallery in the pink the national gallery  home to some of the uk s greatest artworks  has seen a big jump in visitor numbers.  five million visitors made the london gallery - which houses treasures like raphael s madonna of the pinks - the uk s most visited museum in 2004. it recorded a 13.8% rise in numbers and was the country s second most visited tourist attraction  behind blackpool pleasure beach. charles saumarez smith  the gallery s director  said he was  delighted . he said the number of visitors through the doors had boosted figures to pre-11 september 2001 levels. mr saumarez smith added that the pedestrianisation of trafalgar square  where the gallery is located  and strong temporary collections throughout 2004 had led to the strong performance.   our 2004 exhibition programme of el greco  russian landscape in the age of tolstoy and raphael: from urbino to rome was particularly strong and exceeded all targets   he said.  the exceptional quality of the paintings in our permanent collection is also huge draw for the public.  the expectations of today s visitors are higher than ever and we have kept pace with their demands.  mr saumarez smith said he was confident the gallery could maintain the attendance.  with important exhibitions of the work of caravaggio  stubbs and rubens in place for 2005  i am confident that the gallery is set for another highly successful year   he added. the figures were prepared by the association of leading visitor attractions (alva).  it found that the figures had been boosted by an increase in europeans travelling to the uk on budget airlines. popular cultural tourist spots such as the tate modern and the natural history museum all recorded increases of more than 10% in visitor numbers compared with 2003. but for legal or confidentiality reasons some alva members did not submit figures for 2004  including buckingham palace  windsor castle  madame tussauds and alton towers. alva director robin broke said:  visits from western europe were up by 10% and from north america by some 9% compared to 2003  while numbers from the rest of the world rose 20%.  european figures were helped by the rapid growth of low-cost flights to britain from europe  especially from new eu countries.\n",
      "############################################################\n",
      "\n",
      "Predicted category: business\n",
      "\n",
      "True category: politics\n",
      "\n",
      "Data: hunt ban support is  in decline  support for a ban on hunting has fallen in the past six years  a poll suggests.  less than half the uk wants a ban compared to almost two-thirds in 1999  the mori survey of 2 000 adults for bbc one s countryfile programme suggests. the number opposed to a ban remains constant  but those  neither supporting nor opposing  has increased by 11%. most city-dwellers support the ban but rural people were evenly split between supporters  opponents and undecided.  polling company mori carried out both surveys. in july 1999 they asked 801 adults if they supported the ban for the mail on sunday. for countryfile they asked 2 234 adults across the country the same question. the mail on sunday survey found that 63% supported a hunting ban compared with 24% against. in the countryfile survey  47% said they supported the legislation  with 26% against. but the programme makers suggest the british public are becoming  increasingly neutral  to the issue because around one quarter said they  neither support nor oppose  a ban.\n",
      "############################################################\n",
      "\n",
      "Predicted category: business\n",
      "\n",
      "True category: tech\n",
      "\n",
      "Data: us woman sues over ink cartridges a us woman is suing hewlett packard (hp)  saying its printer ink cartridges are secretly programmed to expire on a certain date.  the unnamed woman from georgia says that a chip inside the cartridge tells the printer that it needs re-filling even when it does not. the lawsuit seeks to represent anyone in the us who has purchased an hp inkjet printer since february 2001. hp  the world s biggest printer firm  declined to comment on the lawsuit. hp ink cartridges use a chip technology to sense when they are low on ink and advise the user to make a change.  but the suit claims the chips also shut down the cartridges at a predetermined date regardless of whether they are empty.  the smart chip is dually engineered to prematurely register ink depletion and to render a cartridge unusable through the use of a built-in expiration date that is not revealed to the consumer   the suit said. the lawsuit is asking for restitution  damages and other compensation. the cost of printer cartridges has been a contentious issue in europe for the last 18 months. the price of inkjet printers has come down to as little as £34 but it could cost up to £1 700 in running costs over an 18-month period due to cartridge  a study by computeractive magazine revealed last year. the inkjet printer market has been the subject of an investigation by the uk s office of fair trading (oft)  which concluded in a 2002 report that retailers and manufacturers needed to make pricing more transparent for consumers.\n",
      "############################################################\n",
      "\n",
      "Predicted category: business\n",
      "\n",
      "True category: politics\n",
      "\n",
      "Data: borders rail link campaign rally campaigners are to stage a rally calling for a borders rail link which was closed in 1969 to be reopened.  they will mark the 36th anniversary of the line closure  which ran from edinburgh through the borders and on to carlisle  with a walk at tweedbank. anne borthwick  of campaign for borders rail  said reopening the waverley line would restore the area s prosperity. msps are considering the reintroduction of passenger rail services through midlothian to the borders. campaigners have said that reopening the waverley line  which could cost up to £100m  would be a huge economic boost for the borders.  in 2000  borders council said the area s economy had suffered since the closure. ms borthwick said the lobby group was determined to keep the pressure on the scottish executive.  we are hoping that many people will join us in a march to mark the 36th anniversary of the closure of the waverley line   she said.  campaign for borders rail is the biggest independent lobby group in scotland and we have been lobbying tirelessly for the reinstatement of rail services to the borders and eventually to carlisle.   we believe that it is time for the scottish executive to commit to the first phase of the project by pledging to fund the line between edinburgh and tweedbank in the first instance and then investigate extending the line in the future.  ms borthwick said reopening the line would be a prosperous move and protect the character of the scottish borders. a study in 2000  which was commissioned by the executive  scottish borders council  midlothian council and scottish borders enterprise  found that a half-hourly service from tweedbank to edinburgh could cover its operating costs. it also found that a half-hourly service from gorebridge to edinburgh could cover operating costs and that a freight railway joining the west coast main line at longtown could also be reinstated.\n",
      "############################################################\n",
      "\n",
      "Predicted category: business\n",
      "\n",
      "True category: entertainment\n",
      "\n",
      "Data: ethnic producers  face barriers  minority ethnic led (mel) production companies face barriers in succeeding in the film and television industries  research has suggested.  the study  commissioned by pact and the uk film council  included interviews with industry experts and individuals. they indicated that career progression and a lack of role models are among the main problems within such companies. the research indicated that about 10% of independent production companies in the uk are minority ethnic led.  a minority ethnic led company is defined as one in which the majority of decision-making power rests with an individual or individuals from a minority ethnic group. the report also explored the problems faced by such companies when attempting to compete within the film and tv industries. it said they are often smaller than other companies and lack the resources  so are often squeezed out of the market by bigger firms. the research recommended that minority ethnic led companies could benefit from such positive actions as career training and business advice  plus improved communication within the film and tv sectors.  the uk has a rich and diverse culture and it is essential that it is reflected on film and television   said arts minister estelle morris of the findings.  i welcome this report which i hope will lead to more doors being opened and all businesses in our film and television industries being given the same opportunities.\n",
      "############################################################\n",
      "\n",
      "Predicted category: business\n",
      "\n",
      "True category: tech\n",
      "\n",
      "Data: lasers help bridge network gaps an indian telecommunications firm has turned to lasers to help it overcome the problems of setting up voice and data networks in the country.  tata teleservices is using the lasers to make the link between customers  offices and its own core network. the laser bridges work across distances up to 4km and can be set up much faster than cable connections. in 12 months the lasers have helped the firm set up networks in more than 700 locations.   in this particular geography getting permission to dig the ground and lay the pipes is a bit of a task   said mr r. sridharan  vice president of networks at tata.  heavy traffic and the layout under the ground mean that digging is uniquely difficult   he said. in some locations  he said  permission to dig up roads and lay cables was impossible to get. he said it was far easier to secure permission for putting networking hardware on roofs. this has led chennai-based tata to turn to equipment that uses lasers to make the final mile leap between tata s core network and the premises of customers. the lightpointe laser bridges work over distances of up to 4km and are being used to route both voice and data from businesses on to the backbone of the network. the hardware works in pairs and beam data through the air in the form of laser pulses.  the laser bridges can route data at speeds up to 1.25gbps (2 000 times faster than a 512kbps broadband connection) but tata is running its hardware at more modest speeds of 1-2mbps. the lasers are also ideal for india because of its climate.  it s particularly suitable as the rain rate is a little low and it s hardly ever foggy   he said. in places where rain is heavy and fog is common laser links can struggle to maintain good connection speeds. the laser links also take far less time to set up and get working  said mr sridharan.  once we get the other permissions  normal time period for set up is a few hours   he said. by contrast  he said  digging up roads and laying cables can take weeks or months. this speed of set up has helped tata with its aggressive expansion plans. just over 12 months ago the firm had customers in only about 70 towns and cities. but by the end of march the firm hopes to reach more than 1 000.  speed is very important because of the pace of competition   said mr sridharan.\n",
      "############################################################\n",
      "\n",
      "Predicted category: business\n",
      "\n",
      "True category: politics\n",
      "\n",
      "Data: e-university  disgraceful waste  a failed government scheme to offer uk university courses online has been branded a  disgraceful waste  by mps.  the e-university was scrapped last year  having attracted only 900 students at a cost of £50m. chief executive john beaumont was paid a bonus of £44 914  despite a failure to bring in private sector backers. the commons education select committee called this  morally indefensible  but the government said the e-university project had  improved understanding .  a department for education and skills spokeswoman said the venture had been  ambitious and ground-breaking  but take-up had not been  sufficient to continue with the project . she added:  uk e-universities was not the only organisation to have lost out on private sector investment in the collapse of the dotcom boom.  the select committee found that those responsible for founding the e-university in 2000 had been caught up in the  general atmosphere of enthusiasm  surrounding the internet. initial business plans forecast a quarter of a million students joining within a decade  bringing in at least £110m in profit.  but virtually no market research was carried out and just £4.2m was spent on worldwide sales and marketing of courses. some £14m went on developing the technology to make the e-university work. this was used by just 200 students  the rest preferring to work through existing university websites. with no significant private investors and no direct accountability to a government minister  the e-university had had  too much freedom to spend public money as it wished   the report found. committee chairman barry sheerman said:  uk e-university was a terrible waste of public money.  the senior executives failed to interest any private investors and showed an extraordinary over-confidence in their ability to attract students to the scheme.  the report warns that the government should not be scared off investment in innovative but potentially risky schemes by the failure of the e-university  but  should learn the lessons from this disaster .\n",
      "############################################################\n",
      "\n",
      "Predicted category: sport\n",
      "\n",
      "True category: tech\n",
      "\n",
      "Data: world tour for top video gamers two uk gamers are about to embark on a world tour as part of the most lucrative-ever global games tournament.  aaron foster and david treacy have won the right to take part in a tournament offering $1m in total prize money. the cash will be handed out over 10 separate competitions in a continent-hopping contest organised by the cyberathlete professional league. as part of their prize the pair will have their travel costs paid to ensure they can get to the different bouts.  the cpl world tour kicks off in mid-february and the first leg will be in istanbul. all ten bouts of the tournament will be played throughout 2005  each one in a different country. at each stop $50 000 in prize money will be up for grabs. the tournament champion for each leg of the cpl world tour will walk away with a $15 000 prize. the winner of the grand final will get a prize purse of $150 000 from a total pot of $500 000.  winners of each stage of the tour automatically get a place at the next stop. the world tour stops are open to any keen gamer that registers. online registration for the first stop opens this weekend. some pro-players are winning a spot at the tour destinations through qualifying events organised by cpl partners. winners at these qualifiers get seeded higher in the elimination parts of each tournament. mr foster and mr treacy get the chance to attend the world tour as members of the uk s four-kings gaming clan. towards the end of 2004 four-kings staged a series of online painkiller competitions to reveal the uk s top players of the pc game. the best eight players met face-to-face in a special elimination event in late december where mr foster and mr tracey proved their prowess at painkiller. as part of their prize the pair also get a contract with four-kings intel which is one of the uk s few pro-gaming teams.  there are a lot of people who take gaming very seriously and support their local or national team with the same passion as any other sport   said simon bysshe who filmed the event for four-kings and intel. more than 80 000 people have downloaded the movie of the tournament highlights.  professional gaming is here to stay and will only grow in popularity   he said.\n",
      "############################################################\n"
     ]
    }
   ],
   "source": [
    "incorrect_predictions = np.where(y_test != y_pred)\n",
    "idxs = y_test.index\n",
    "for tuple_list in incorrect_predictions:\n",
    "    for i in tuple_list:\n",
    "        print(f'\\nPredicted category: {y_pred[i]}')\n",
    "        print(f'\\nTrue category: {df.iloc[idxs][\"category\"].iloc[i]}')\n",
    "        print(f'\\nData: {df.iloc[idxs][\"text\"].iloc[i]}')\n",
    "        print('###'*20)"
   ]
  },
  {
   "cell_type": "markdown",
   "id": "2c4780e0",
   "metadata": {},
   "source": [
    "The incorrect predictions are fair e.g. \n",
    "- predicted sport when the true category is tech because the news article is talking about a game called football manager.\n",
    "- predicted politics when the true category is business because the new article discusses pensions, living standards and policy. \n",
    "\n",
    "It is worth noting that while the NLP model does perform well, the data that trained the model is time-specific e.g. technology words will change, politicians will come and go, new markets will emerge in business, news sporting heroes will win games and new actors/films/music will be popular. For a news NLP model to be successful it would most likely need continuous training. "
   ]
  },
  {
   "cell_type": "code",
   "execution_count": null,
   "id": "385a74d6",
   "metadata": {},
   "outputs": [],
   "source": []
  }
 ],
 "metadata": {
  "kernelspec": {
   "display_name": "Python 3 (ipykernel)",
   "language": "python",
   "name": "python3"
  },
  "language_info": {
   "codemirror_mode": {
    "name": "ipython",
    "version": 3
   },
   "file_extension": ".py",
   "mimetype": "text/x-python",
   "name": "python",
   "nbconvert_exporter": "python",
   "pygments_lexer": "ipython3",
   "version": "3.9.7"
  }
 },
 "nbformat": 4,
 "nbformat_minor": 5
}
