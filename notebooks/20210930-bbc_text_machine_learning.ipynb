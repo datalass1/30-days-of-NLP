{
 "cells": [
  {
   "cell_type": "code",
   "execution_count": 41,
   "id": "fa1f2bce",
   "metadata": {},
   "outputs": [],
   "source": [
    "import os\n",
    "import pandas as pd\n",
    "import numpy as np\n",
    "import ast\n",
    "from collections import Counter\n",
    "import seaborn as sn\n",
    "import matplotlib as mpl \n",
    "import matplotlib.cm as cm \n",
    "import matplotlib.pyplot as plt\n",
    "# NLP\n",
    "from sklearn.feature_extraction.text import CountVectorizer # bag of words\n",
    "# Machine Learning\n",
    "from sklearn.metrics import accuracy_score, roc_auc_score, confusion_matrix \n",
    "from sklearn.model_selection import train_test_split\n",
    "from sklearn.linear_model import LogisticRegression"
   ]
  },
  {
   "cell_type": "markdown",
   "id": "69224121",
   "metadata": {},
   "source": [
    "Read Data"
   ]
  },
  {
   "cell_type": "code",
   "execution_count": 2,
   "id": "f4a7990f",
   "metadata": {},
   "outputs": [],
   "source": [
    "home_path = os.path.expanduser(\"~\")\n",
    "# load the pre-processed data; stopwords removed, lowercase, lemmatisation\n",
    "fp = f'{home_path}/git/30-days-of-NLP/notebooks/Data/bbc-text-preprocessed.csv'\n",
    "df = pd.read_csv(fp)"
   ]
  },
  {
   "cell_type": "markdown",
   "id": "a783d11b",
   "metadata": {},
   "source": [
    "A final clean to remove digits and single characters"
   ]
  },
  {
   "cell_type": "code",
   "execution_count": 3,
   "id": "79c9f73d",
   "metadata": {},
   "outputs": [
    {
     "data": {
      "text/html": [
       "<div>\n",
       "<style scoped>\n",
       "    .dataframe tbody tr th:only-of-type {\n",
       "        vertical-align: middle;\n",
       "    }\n",
       "\n",
       "    .dataframe tbody tr th {\n",
       "        vertical-align: top;\n",
       "    }\n",
       "\n",
       "    .dataframe thead th {\n",
       "        text-align: right;\n",
       "    }\n",
       "</style>\n",
       "<table border=\"1\" class=\"dataframe\">\n",
       "  <thead>\n",
       "    <tr style=\"text-align: right;\">\n",
       "      <th></th>\n",
       "      <th>category</th>\n",
       "      <th>text</th>\n",
       "    </tr>\n",
       "  </thead>\n",
       "  <tbody>\n",
       "    <tr>\n",
       "      <th>0</th>\n",
       "      <td>tech</td>\n",
       "      <td>[tv, future, hand, viewer, home, theatre, syst...</td>\n",
       "    </tr>\n",
       "  </tbody>\n",
       "</table>\n",
       "</div>"
      ],
      "text/plain": [
       "  category                                               text\n",
       "0     tech  [tv, future, hand, viewer, home, theatre, syst..."
      ]
     },
     "metadata": {},
     "output_type": "display_data"
    },
    {
     "name": "stdout",
     "output_type": "stream",
     "text": [
      "Number of documents: 2225\n",
      "Number of categories: ['tech' 'business' 'sport' 'entertainment' 'politics']\n",
      "CPU times: user 1min 57s, sys: 302 ms, total: 1min 57s\n",
      "Wall time: 1min 57s\n"
     ]
    }
   ],
   "source": [
    "%%time\n",
    "to_remove = []\n",
    "for i in range(len(df)):\n",
    "    doc = ast.literal_eval(df['text'].iloc[i])\n",
    "    for word in doc:\n",
    "        if any(char.isdigit() for char in word):\n",
    "            to_remove.append(word)\n",
    "            \n",
    "df['text'] = [[word for word in ast.literal_eval(doc) \n",
    "               if word not in set(to_remove) \n",
    "               and len(word) > 1] \n",
    "              for doc in df['text']]\n",
    "\n",
    "display(df.head(1))\n",
    "print(f'Number of documents: {len(df)}\\nNumber of categories: {df[\"category\"].unique()}')"
   ]
  },
  {
   "cell_type": "markdown",
   "id": "98897288",
   "metadata": {},
   "source": [
    "### Vectorisation of dataset\n",
    "#### 1. Bag of Words"
   ]
  },
  {
   "cell_type": "code",
   "execution_count": 4,
   "id": "53fe76e9",
   "metadata": {},
   "outputs": [
    {
     "name": "stdout",
     "output_type": "stream",
     "text": [
      "There are 23261 tokens in the bag of words\n"
     ]
    },
    {
     "data": {
      "text/html": [
       "<div>\n",
       "<style scoped>\n",
       "    .dataframe tbody tr th:only-of-type {\n",
       "        vertical-align: middle;\n",
       "    }\n",
       "\n",
       "    .dataframe tbody tr th {\n",
       "        vertical-align: top;\n",
       "    }\n",
       "\n",
       "    .dataframe thead th {\n",
       "        text-align: right;\n",
       "    }\n",
       "</style>\n",
       "<table border=\"1\" class=\"dataframe\">\n",
       "  <thead>\n",
       "    <tr style=\"text-align: right;\">\n",
       "      <th></th>\n",
       "      <th>aa</th>\n",
       "      <th>aaa</th>\n",
       "      <th>aaas</th>\n",
       "      <th>aac</th>\n",
       "      <th>aadc</th>\n",
       "      <th>aaliyah</th>\n",
       "      <th>aaltra</th>\n",
       "      <th>aamir</th>\n",
       "      <th>aan</th>\n",
       "      <th>aara</th>\n",
       "      <th>...</th>\n",
       "      <th>zoom</th>\n",
       "      <th>zooropa</th>\n",
       "      <th>zornotza</th>\n",
       "      <th>zorro</th>\n",
       "      <th>zubair</th>\n",
       "      <th>zuluaga</th>\n",
       "      <th>zurich</th>\n",
       "      <th>zuton</th>\n",
       "      <th>zvonareva</th>\n",
       "      <th>zvyagintsev</th>\n",
       "    </tr>\n",
       "  </thead>\n",
       "  <tbody>\n",
       "    <tr>\n",
       "      <th>0</th>\n",
       "      <td>0</td>\n",
       "      <td>0</td>\n",
       "      <td>0</td>\n",
       "      <td>0</td>\n",
       "      <td>0</td>\n",
       "      <td>0</td>\n",
       "      <td>0</td>\n",
       "      <td>0</td>\n",
       "      <td>0</td>\n",
       "      <td>0</td>\n",
       "      <td>...</td>\n",
       "      <td>0</td>\n",
       "      <td>0</td>\n",
       "      <td>0</td>\n",
       "      <td>0</td>\n",
       "      <td>0</td>\n",
       "      <td>0</td>\n",
       "      <td>0</td>\n",
       "      <td>0</td>\n",
       "      <td>0</td>\n",
       "      <td>0</td>\n",
       "    </tr>\n",
       "  </tbody>\n",
       "</table>\n",
       "<p>1 rows × 23261 columns</p>\n",
       "</div>"
      ],
      "text/plain": [
       "   aa  aaa  aaas  aac  aadc  aaliyah  aaltra  aamir  aan  aara  ...  zoom  \\\n",
       "0   0    0     0    0     0        0       0      0    0     0  ...     0   \n",
       "\n",
       "   zooropa  zornotza  zorro  zubair  zuluaga  zurich  zuton  zvonareva  \\\n",
       "0        0         0      0       0        0       0      0          0   \n",
       "\n",
       "   zvyagintsev  \n",
       "0            0  \n",
       "\n",
       "[1 rows x 23261 columns]"
      ]
     },
     "execution_count": 4,
     "metadata": {},
     "output_type": "execute_result"
    }
   ],
   "source": [
    "count_vect = CountVectorizer(binary=True)\n",
    "bow_rep = count_vect.fit_transform(df['text'].astype(str))\n",
    "# create dataframe\n",
    "df_bow = pd.DataFrame(bow_rep.toarray(), columns=count_vect.get_feature_names_out())\n",
    "print(f'There are {len(df_bow.columns)} tokens in the bag of words')\n",
    "df_bow.head(1)"
   ]
  },
  {
   "cell_type": "markdown",
   "id": "a73e56e8",
   "metadata": {},
   "source": [
    "Each row in the bag of words refers to a document, so the length of bag of words and the labelled data should be the same. So the 0 index in df_bow is the 0 index in the df. "
   ]
  },
  {
   "cell_type": "code",
   "execution_count": 9,
   "id": "5f600dc8",
   "metadata": {},
   "outputs": [
    {
     "data": {
      "text/plain": [
       "(2225, 2225)"
      ]
     },
     "execution_count": 9,
     "metadata": {},
     "output_type": "execute_result"
    }
   ],
   "source": [
    "len(df_bow), len(df)"
   ]
  },
  {
   "cell_type": "markdown",
   "id": "540d83c7",
   "metadata": {},
   "source": [
    "#### 2. Modelling Data"
   ]
  },
  {
   "cell_type": "markdown",
   "id": "6254fed2",
   "metadata": {},
   "source": [
    "Split the data into training and testing with sklearn"
   ]
  },
  {
   "cell_type": "code",
   "execution_count": 10,
   "id": "14254840",
   "metadata": {},
   "outputs": [
    {
     "name": "stdout",
     "output_type": "stream",
     "text": [
      "Training Data: 1668\n",
      "Testing Data: 557\n"
     ]
    }
   ],
   "source": [
    "data, labels = df_bow, df['category']\n",
    "X_train, X_test, y_train, y_test = train_test_split(data, labels, test_size=0.25, random_state=42)\n",
    "print(f'Training Data: {X_train.shape[0]}')\n",
    "print(f'Testing Data: {X_test.shape[0]}')"
   ]
  },
  {
   "cell_type": "markdown",
   "id": "c230dd98",
   "metadata": {},
   "source": [
    "Let's look at some of the data and labels. You will see that BoW is something like [0 0 0 ... 0 1 0]."
   ]
  },
  {
   "cell_type": "code",
   "execution_count": 31,
   "id": "7c64cac3",
   "metadata": {
    "scrolled": true
   },
   "outputs": [
    {
     "name": "stdout",
     "output_type": "stream",
     "text": [
      "BoW: [0 0 0 ... 0 0 0]\n",
      "Category: business\n",
      "['account', 'average', 'bear', 'big', 'borrow', 'britannia', 'build', 'customer', 'december', 'depend', 'deposit', 'earn', 'either', 'eligibility', 'entitle', 'interest', 'introduce', 'invest', 'investment', 'large', 'last', 'least', 'less', 'make', 'member', 'mortgage', 'much', 'must', 'pay', 'payment', 'payout', 'permanent', 'pibs', 'point', 'profit', 'qualify', 'receive', 'result', 'reward', 'rule', 'scheme', 'second', 'share', 'society', 'stop', 'strict', 'two', 'uk', 'unveil', 'wednesday', 'windfall', 'worth', 'year']\n",
      "BoW: [0 0 0 ... 0 0 0]\n",
      "Category: sport\n",
      "['act', 'action', 'add', 'admit', 'agree', 'although', 'andy', 'anything', 'appoint', 'australian', 'back', 'basically', 'bbc', 'beat', 'begin', 'believe', 'berate', 'bit', 'blame', 'bloody', 'board', 'boost', 'bottom', 'camp', 'campese', 'cap', 'captain', 'care', 'castigate', 'champion', 'cheat', 'choice', 'class', 'clearcut', 'clive', 'coach', 'come', 'complaint', 'contemplate', 'cost', 'could', 'cueto', 'current', 'david', 'decider', 'defeat', 'defend', 'deserve', 'disallow', 'end', 'england', 'englishman', 'every', 'everyone', 'exwallaby', 'face', 'fashion', 'first', 'follow', 'former', 'france', 'fringe', 'fullback', 'game', 'give', 'go', 'good', 'grand', 'half', 'hard', 'home', 'insist', 'international', 'ireland', 'irish', 'italy', 'jason', 'jonathan', 'josh', 'kaplan', 'key', 'lack', 'lambaste', 'late', 'leader', 'leadership', 'lewsey', 'like', 'little', 'live', 'long', 'look', 'lose', 'major', 'make', 'march', 'mark', 'match', 'maybe', 'mean', 'millennium', 'mount', 'much', 'nation', 'need', 'one', 'order', 'overall', 'pack', 'people', 'place', 'play', 'player', 'pom', 'poor', 'possible', 'potential', 'predicament', 'pressure', 'realise', 'really', 'recourse', 'referee', 'reputation', 'resignation', 'robinson', 'rugby', 'rule', 'scotland', 'second', 'see', 'senior', 'sir', 'six', 'slam', 'sole', 'someone', 'spoon', 'sport', 'stadium', 'stand', 'stop', 'suddenly', 'surprise', 'surprising', 'table', 'talent', 'team', 'tell', 'thick', 'thing', 'think', 'though', 'tip', 'tournament', 'try', 'turmoil', 'typical', 'unfairly', 'veteran', 'video', 'wake', 'wale', 'way', 'whingee', 'win', 'wing', 'without', 'wooden', 'woodward', 'world', 'xv']\n",
      "BoW: [0 0 0 ... 0 0 0]\n",
      "Category: politics\n",
      "['across', 'add', 'affect', 'allpostal', 'along', 'area', 'assembly', 'ballot', 'bar', 'bbc', 'become', 'big', 'clear', 'closely', 'code', 'commission', 'complaint', 'council', 'count', 'county', 'couple', 'darlington', 'deliver', 'delivery', 'disappear', 'due', 'durham', 'east', 'elector', 'electoral', 'ensure', 'envelope', 'fail', 'far', 'find', 'go', 'hand', 'help', 'home', 'hundred', 'initially', 'investigate', 'investigation', 'issue', 'kind', 'letter', 'line', 'mail', 'make', 'mean', 'measure', 'million', 'miss', 'mowden', 'necessary', 'news', 'noone', 'north', 'november', 'office', 'official', 'online', 'pack', 'paper', 'place', 'problem', 'property', 'put', 'race', 'receive', 'rectify', 'referendum', 'regional', 'resident', 'route', 'royal', 'satisfied', 'say', 'scan', 'see', 'send', 'several', 'situation', 'something', 'somewhere', 'special', 'spokesman', 'spokeswoman', 'take', 'tell', 'think', 'time', 'total', 'try', 'two', 'unaware', 'vote', 'voter', 'work', 'wrong']\n"
     ]
    }
   ],
   "source": [
    "idxs = [1, 3, 10]\n",
    "for i in idxs:\n",
    "    print(f'BoW: {X_train.iloc[i].values}\\nCategory: {y_train.iloc[i]}')\n",
    "    print((X_train.iloc[i][X_train.iloc[i] == 1]).index.tolist())"
   ]
  },
  {
   "cell_type": "code",
   "execution_count": 47,
   "id": "8803420f",
   "metadata": {},
   "outputs": [
    {
     "name": "stdout",
     "output_type": "stream",
     "text": [
      "Model Training time:\n",
      "CPU times: user 46 s, sys: 16.5 s, total: 1min 2s\n",
      "Wall time: 8.8 s\n"
     ]
    }
   ],
   "source": [
    "print('Model Training time:')\n",
    "log_reg = LogisticRegression() # instantiate a logistic regression model\n",
    "%time log_reg.fit(X_train, y_train) # train the model(timing it with an IPython \"magic command\")\n",
    "y_pred = log_reg.predict(X_test) # make class predictions for X_test"
   ]
  },
  {
   "cell_type": "markdown",
   "id": "d697b9e1",
   "metadata": {},
   "source": [
    "#### 3. Accuracy Assessment"
   ]
  },
  {
   "cell_type": "code",
   "execution_count": 53,
   "id": "f44bbfb8",
   "metadata": {},
   "outputs": [
    {
     "data": {
      "text/plain": [
       "array(['tech', 'business', 'sport', 'entertainment', 'politics'],\n",
       "      dtype=object)"
      ]
     },
     "execution_count": 53,
     "metadata": {},
     "output_type": "execute_result"
    }
   ],
   "source": [
    "categories = df['category'].unique(); categories"
   ]
  },
  {
   "cell_type": "code",
   "execution_count": 54,
   "id": "34d4f6c6",
   "metadata": {},
   "outputs": [
    {
     "data": {
      "image/png": "[encoded data removed]",
      "text/plain": [
       "<Figure size 432x288 with 2 Axes>"
      ]
     },
     "metadata": {
      "needs_background": "light"
     },
     "output_type": "display_data"
    },
    {
     "name": "stdout",
     "output_type": "stream",
     "text": [
      "Accuracy:  0.9569120287253142\n"
     ]
    }
   ],
   "source": [
    "def plot_confusion_matrix(cm, title):\n",
    "    cm = cm.astype('float') / cm.sum(axis=1)[:, np.newaxis] # normalise\n",
    "    sn.heatmap(cm, annot=True, fmt='.2', cmap='Blues')\n",
    "    plt.ylabel('True label',fontsize=15)\n",
    "    plt.xlabel('Predicted label',fontsize=15)\n",
    "    plt.title(title)\n",
    "    plt.show()\n",
    "    \n",
    "cm = confusion_matrix(y_true=y_test, y_pred=y_pred)\n",
    "plot_confusion_matrix(cm, 'Confusion matrix with all features')\n",
    "print(\"Accuracy: \", accuracy_score(y_true=y_test, y_pred=y_pred))"
   ]
  },
  {
   "cell_type": "markdown",
   "id": "a3f124dd",
   "metadata": {},
   "source": [
    "The model did really well!\n",
    "\n",
    "Which ones did it get wrong?"
   ]
  },
  {
   "cell_type": "code",
   "execution_count": 59,
   "id": "73126154",
   "metadata": {},
   "outputs": [
    {
     "data": {
      "text/plain": [
       "(array([  6,  22,  45,  61,  74,  88, 139, 155, 171, 174, 183, 209, 272,\n",
       "        315, 348, 372, 377, 407, 414, 416, 424, 486, 499, 547]),)"
      ]
     },
     "execution_count": 59,
     "metadata": {},
     "output_type": "execute_result"
    }
   ],
   "source": [
    "np.where(y_test != y_pred)"
   ]
  },
  {
   "cell_type": "code",
   "execution_count": null,
   "id": "aa800321",
   "metadata": {},
   "outputs": [],
   "source": []
  }
 ],
 "metadata": {
  "kernelspec": {
   "display_name": "Python 3 (ipykernel)",
   "language": "python",
   "name": "python3"
  },
  "language_info": {
   "codemirror_mode": {
    "name": "ipython",
    "version": 3
   },
   "file_extension": ".py",
   "mimetype": "text/x-python",
   "name": "python",
   "nbconvert_exporter": "python",
   "pygments_lexer": "ipython3",
   "version": "3.9.7"
  }
 },
 "nbformat": 4,
 "nbformat_minor": 5
}
